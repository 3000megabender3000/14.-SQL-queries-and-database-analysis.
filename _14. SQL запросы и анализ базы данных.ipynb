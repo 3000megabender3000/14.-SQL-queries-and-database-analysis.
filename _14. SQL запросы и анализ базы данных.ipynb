{
 "cells": [
  {
   "cell_type": "markdown",
   "metadata": {},
   "source": [
    "# Проект по SQL."
   ]
  },
  {
   "cell_type": "markdown",
   "metadata": {},
   "source": [
    "Коронавирус застал мир врасплох, изменив привычный порядок вещей. В свободное время жители городов больше не выходят на улицу, не посещают кафе и торговые центры. Зато стало больше времени для книг. Это заметили стартаперы — и бросились создавать приложения для тех, кто любит читать.\n",
    "Ваша компания решила быть на волне и купила крупный сервис для чтения книг по подписке. Ваша первая задача как аналитика — проанализировать базу данных. В ней — информация о книгах, издательствах, авторах, а также пользовательские обзоры книг. Эти данные помогут сформулировать ценностное предложение для нового продукта."
   ]
  },
  {
   "cell_type": "markdown",
   "metadata": {},
   "source": [
    "## Описание данных."
   ]
  },
  {
   "cell_type": "markdown",
   "metadata": {},
   "source": [
    "Загружу нужные библиотеки а потом выведу каждую таблицу с описанием."
   ]
  },
  {
   "cell_type": "code",
   "execution_count": 1,
   "metadata": {},
   "outputs": [],
   "source": [
    "# импортируем библиотеки\n",
    "import pandas as pd\n",
    "from sqlalchemy import create_engine\n",
    "# устанавливаем параметры\n",
    "db_config = {'user': 'praktikum_student', # имя пользователя\n",
    " 'pwd': 'Sdf4$2;d-d30pp', # пароль\n",
    " 'host': 'rc1b-wcoijxj3yxfsf3fs.mdb.yandexcloud.net',\n",
    " 'port': 6432, # порт подключения\n",
    " 'db': 'data-analyst-final-project-db'} # название базы данных\n",
    "connection_string = 'postgresql://{}:{}@{}:{}/{}'.format(db_config['user'],\n",
    " db_config['pwd'],\n",
    " db_config['host'],\n",
    " db_config['port'],\n",
    " db_config['db'])\n",
    "# сохраняем коннектор\n",
    "engine = create_engine(connection_string, connect_args={'sslmode':'require'}) "
   ]
  },
  {
   "cell_type": "code",
   "execution_count": 2,
   "metadata": {},
   "outputs": [],
   "source": [
    "def sql(query):\n",
    "    '''Функция передает запрос в формате SQL методу read_sql pandas.\n",
    "    '''\n",
    "    return pd.io.sql.read_sql(query, con = engine)"
   ]
  },
  {
   "cell_type": "code",
   "execution_count": 3,
   "metadata": {},
   "outputs": [
    {
     "data": {
      "text/html": [
       "<div>\n",
       "<style scoped>\n",
       "    .dataframe tbody tr th:only-of-type {\n",
       "        vertical-align: middle;\n",
       "    }\n",
       "\n",
       "    .dataframe tbody tr th {\n",
       "        vertical-align: top;\n",
       "    }\n",
       "\n",
       "    .dataframe thead th {\n",
       "        text-align: right;\n",
       "    }\n",
       "</style>\n",
       "<table border=\"1\" class=\"dataframe\">\n",
       "  <thead>\n",
       "    <tr style=\"text-align: right;\">\n",
       "      <th></th>\n",
       "      <th>book_id</th>\n",
       "      <th>author_id</th>\n",
       "      <th>title</th>\n",
       "      <th>num_pages</th>\n",
       "      <th>publication_date</th>\n",
       "      <th>publisher_id</th>\n",
       "    </tr>\n",
       "  </thead>\n",
       "  <tbody>\n",
       "    <tr>\n",
       "      <td>0</td>\n",
       "      <td>1</td>\n",
       "      <td>546</td>\n",
       "      <td>'Salem's Lot</td>\n",
       "      <td>594</td>\n",
       "      <td>2005-11-01</td>\n",
       "      <td>93</td>\n",
       "    </tr>\n",
       "    <tr>\n",
       "      <td>1</td>\n",
       "      <td>2</td>\n",
       "      <td>465</td>\n",
       "      <td>1 000 Places to See Before You Die</td>\n",
       "      <td>992</td>\n",
       "      <td>2003-05-22</td>\n",
       "      <td>336</td>\n",
       "    </tr>\n",
       "    <tr>\n",
       "      <td>2</td>\n",
       "      <td>3</td>\n",
       "      <td>407</td>\n",
       "      <td>13 Little Blue Envelopes (Little Blue Envelope...</td>\n",
       "      <td>322</td>\n",
       "      <td>2010-12-21</td>\n",
       "      <td>135</td>\n",
       "    </tr>\n",
       "    <tr>\n",
       "      <td>3</td>\n",
       "      <td>4</td>\n",
       "      <td>82</td>\n",
       "      <td>1491: New Revelations of the Americas Before C...</td>\n",
       "      <td>541</td>\n",
       "      <td>2006-10-10</td>\n",
       "      <td>309</td>\n",
       "    </tr>\n",
       "    <tr>\n",
       "      <td>4</td>\n",
       "      <td>5</td>\n",
       "      <td>125</td>\n",
       "      <td>1776</td>\n",
       "      <td>386</td>\n",
       "      <td>2006-07-04</td>\n",
       "      <td>268</td>\n",
       "    </tr>\n",
       "  </tbody>\n",
       "</table>\n",
       "</div>"
      ],
      "text/plain": [
       "   book_id  author_id                                              title  \\\n",
       "0        1        546                                       'Salem's Lot   \n",
       "1        2        465                 1 000 Places to See Before You Die   \n",
       "2        3        407  13 Little Blue Envelopes (Little Blue Envelope...   \n",
       "3        4         82  1491: New Revelations of the Americas Before C...   \n",
       "4        5        125                                               1776   \n",
       "\n",
       "   num_pages publication_date  publisher_id  \n",
       "0        594       2005-11-01            93  \n",
       "1        992       2003-05-22           336  \n",
       "2        322       2010-12-21           135  \n",
       "3        541       2006-10-10           309  \n",
       "4        386       2006-07-04           268  "
      ]
     },
     "execution_count": 3,
     "metadata": {},
     "output_type": "execute_result"
    }
   ],
   "source": [
    "sql('SELECT * FROM books LIMIT 5')"
   ]
  },
  {
   "cell_type": "markdown",
   "metadata": {},
   "source": [
    "<b>Таблица books.</b>\n",
    "<p></p>\n",
    "Содержит данные о книгах:\n",
    "<li>book_id — идентификатор книги;\n",
    "<li>author_id — идентификатор автора;\n",
    "<li>title — название книги;\n",
    "<li>num_pages — количество страниц;\n",
    "<li>publication_date — дата публикации книги;\n",
    "<li>publisher_id — идентификатор издателя."
   ]
  },
  {
   "cell_type": "code",
   "execution_count": 4,
   "metadata": {},
   "outputs": [
    {
     "data": {
      "text/html": [
       "<div>\n",
       "<style scoped>\n",
       "    .dataframe tbody tr th:only-of-type {\n",
       "        vertical-align: middle;\n",
       "    }\n",
       "\n",
       "    .dataframe tbody tr th {\n",
       "        vertical-align: top;\n",
       "    }\n",
       "\n",
       "    .dataframe thead th {\n",
       "        text-align: right;\n",
       "    }\n",
       "</style>\n",
       "<table border=\"1\" class=\"dataframe\">\n",
       "  <thead>\n",
       "    <tr style=\"text-align: right;\">\n",
       "      <th></th>\n",
       "      <th>review_id</th>\n",
       "      <th>book_id</th>\n",
       "      <th>username</th>\n",
       "      <th>text</th>\n",
       "    </tr>\n",
       "  </thead>\n",
       "  <tbody>\n",
       "    <tr>\n",
       "      <td>0</td>\n",
       "      <td>1</td>\n",
       "      <td>1</td>\n",
       "      <td>brandtandrea</td>\n",
       "      <td>Mention society tell send professor analysis. ...</td>\n",
       "    </tr>\n",
       "    <tr>\n",
       "      <td>1</td>\n",
       "      <td>2</td>\n",
       "      <td>1</td>\n",
       "      <td>ryanfranco</td>\n",
       "      <td>Foot glass pretty audience hit themselves. Amo...</td>\n",
       "    </tr>\n",
       "    <tr>\n",
       "      <td>2</td>\n",
       "      <td>3</td>\n",
       "      <td>2</td>\n",
       "      <td>lorichen</td>\n",
       "      <td>Listen treat keep worry. Miss husband tax but ...</td>\n",
       "    </tr>\n",
       "    <tr>\n",
       "      <td>3</td>\n",
       "      <td>4</td>\n",
       "      <td>3</td>\n",
       "      <td>johnsonamanda</td>\n",
       "      <td>Finally month interesting blue could nature cu...</td>\n",
       "    </tr>\n",
       "    <tr>\n",
       "      <td>4</td>\n",
       "      <td>5</td>\n",
       "      <td>3</td>\n",
       "      <td>scotttamara</td>\n",
       "      <td>Nation purpose heavy give wait song will. List...</td>\n",
       "    </tr>\n",
       "  </tbody>\n",
       "</table>\n",
       "</div>"
      ],
      "text/plain": [
       "   review_id  book_id       username  \\\n",
       "0          1        1   brandtandrea   \n",
       "1          2        1     ryanfranco   \n",
       "2          3        2       lorichen   \n",
       "3          4        3  johnsonamanda   \n",
       "4          5        3    scotttamara   \n",
       "\n",
       "                                                text  \n",
       "0  Mention society tell send professor analysis. ...  \n",
       "1  Foot glass pretty audience hit themselves. Amo...  \n",
       "2  Listen treat keep worry. Miss husband tax but ...  \n",
       "3  Finally month interesting blue could nature cu...  \n",
       "4  Nation purpose heavy give wait song will. List...  "
      ]
     },
     "execution_count": 4,
     "metadata": {},
     "output_type": "execute_result"
    }
   ],
   "source": [
    "sql('SELECT * FROM reviews LIMIT 5')"
   ]
  },
  {
   "cell_type": "markdown",
   "metadata": {},
   "source": [
    "<b>Таблица reviews.</b>\n",
    "<p></p>\n",
    "Содержит данные о пользовательских обзорах:\n",
    "<li>review_id — идентификатор обзора;\n",
    "<li>book_id — идентификатор книги;\n",
    "<li>username — имя автора обзора;\n",
    "<li>text — текст обзора."
   ]
  },
  {
   "cell_type": "code",
   "execution_count": 5,
   "metadata": {},
   "outputs": [
    {
     "data": {
      "text/html": [
       "<div>\n",
       "<style scoped>\n",
       "    .dataframe tbody tr th:only-of-type {\n",
       "        vertical-align: middle;\n",
       "    }\n",
       "\n",
       "    .dataframe tbody tr th {\n",
       "        vertical-align: top;\n",
       "    }\n",
       "\n",
       "    .dataframe thead th {\n",
       "        text-align: right;\n",
       "    }\n",
       "</style>\n",
       "<table border=\"1\" class=\"dataframe\">\n",
       "  <thead>\n",
       "    <tr style=\"text-align: right;\">\n",
       "      <th></th>\n",
       "      <th>rating_id</th>\n",
       "      <th>book_id</th>\n",
       "      <th>username</th>\n",
       "      <th>rating</th>\n",
       "    </tr>\n",
       "  </thead>\n",
       "  <tbody>\n",
       "    <tr>\n",
       "      <td>0</td>\n",
       "      <td>1</td>\n",
       "      <td>1</td>\n",
       "      <td>ryanfranco</td>\n",
       "      <td>4</td>\n",
       "    </tr>\n",
       "    <tr>\n",
       "      <td>1</td>\n",
       "      <td>2</td>\n",
       "      <td>1</td>\n",
       "      <td>grantpatricia</td>\n",
       "      <td>2</td>\n",
       "    </tr>\n",
       "    <tr>\n",
       "      <td>2</td>\n",
       "      <td>3</td>\n",
       "      <td>1</td>\n",
       "      <td>brandtandrea</td>\n",
       "      <td>5</td>\n",
       "    </tr>\n",
       "    <tr>\n",
       "      <td>3</td>\n",
       "      <td>4</td>\n",
       "      <td>2</td>\n",
       "      <td>lorichen</td>\n",
       "      <td>3</td>\n",
       "    </tr>\n",
       "    <tr>\n",
       "      <td>4</td>\n",
       "      <td>5</td>\n",
       "      <td>2</td>\n",
       "      <td>mariokeller</td>\n",
       "      <td>2</td>\n",
       "    </tr>\n",
       "  </tbody>\n",
       "</table>\n",
       "</div>"
      ],
      "text/plain": [
       "   rating_id  book_id       username  rating\n",
       "0          1        1     ryanfranco       4\n",
       "1          2        1  grantpatricia       2\n",
       "2          3        1   brandtandrea       5\n",
       "3          4        2       lorichen       3\n",
       "4          5        2    mariokeller       2"
      ]
     },
     "execution_count": 5,
     "metadata": {},
     "output_type": "execute_result"
    }
   ],
   "source": [
    "sql('SELECT * FROM ratings LIMIT 5')"
   ]
  },
  {
   "cell_type": "markdown",
   "metadata": {},
   "source": [
    "<b>Таблица ratings.</b>\n",
    "<p></p>\n",
    "Содержит данные о пользовательских оценках книг:\n",
    "<li>rating_id — идентификатор оценки;\n",
    "<li>book_id — идентификатор книги;\n",
    "<li>username — имя пользователя, оставившего оценку;\n",
    "<li>rating — оценка книги."
   ]
  },
  {
   "cell_type": "code",
   "execution_count": 6,
   "metadata": {},
   "outputs": [
    {
     "data": {
      "text/html": [
       "<div>\n",
       "<style scoped>\n",
       "    .dataframe tbody tr th:only-of-type {\n",
       "        vertical-align: middle;\n",
       "    }\n",
       "\n",
       "    .dataframe tbody tr th {\n",
       "        vertical-align: top;\n",
       "    }\n",
       "\n",
       "    .dataframe thead th {\n",
       "        text-align: right;\n",
       "    }\n",
       "</style>\n",
       "<table border=\"1\" class=\"dataframe\">\n",
       "  <thead>\n",
       "    <tr style=\"text-align: right;\">\n",
       "      <th></th>\n",
       "      <th>publisher_id</th>\n",
       "      <th>publisher</th>\n",
       "    </tr>\n",
       "  </thead>\n",
       "  <tbody>\n",
       "    <tr>\n",
       "      <td>0</td>\n",
       "      <td>1</td>\n",
       "      <td>Ace</td>\n",
       "    </tr>\n",
       "    <tr>\n",
       "      <td>1</td>\n",
       "      <td>2</td>\n",
       "      <td>Ace Book</td>\n",
       "    </tr>\n",
       "    <tr>\n",
       "      <td>2</td>\n",
       "      <td>3</td>\n",
       "      <td>Ace Books</td>\n",
       "    </tr>\n",
       "    <tr>\n",
       "      <td>3</td>\n",
       "      <td>4</td>\n",
       "      <td>Ace Hardcover</td>\n",
       "    </tr>\n",
       "    <tr>\n",
       "      <td>4</td>\n",
       "      <td>5</td>\n",
       "      <td>Addison Wesley Publishing Company</td>\n",
       "    </tr>\n",
       "  </tbody>\n",
       "</table>\n",
       "</div>"
      ],
      "text/plain": [
       "   publisher_id                          publisher\n",
       "0             1                                Ace\n",
       "1             2                           Ace Book\n",
       "2             3                          Ace Books\n",
       "3             4                      Ace Hardcover\n",
       "4             5  Addison Wesley Publishing Company"
      ]
     },
     "execution_count": 6,
     "metadata": {},
     "output_type": "execute_result"
    }
   ],
   "source": [
    "sql('SELECT * FROM publishers LIMIT 5')"
   ]
  },
  {
   "cell_type": "markdown",
   "metadata": {},
   "source": [
    "<b>Таблица publishers.</b>\n",
    "<p></p>\n",
    "Содержит данные об издательствах:\n",
    "<li>publisher_id — идентификатор издательства;\n",
    "<li>publisher — название издательства;"
   ]
  },
  {
   "cell_type": "code",
   "execution_count": 7,
   "metadata": {},
   "outputs": [
    {
     "data": {
      "text/html": [
       "<div>\n",
       "<style scoped>\n",
       "    .dataframe tbody tr th:only-of-type {\n",
       "        vertical-align: middle;\n",
       "    }\n",
       "\n",
       "    .dataframe tbody tr th {\n",
       "        vertical-align: top;\n",
       "    }\n",
       "\n",
       "    .dataframe thead th {\n",
       "        text-align: right;\n",
       "    }\n",
       "</style>\n",
       "<table border=\"1\" class=\"dataframe\">\n",
       "  <thead>\n",
       "    <tr style=\"text-align: right;\">\n",
       "      <th></th>\n",
       "      <th>author_id</th>\n",
       "      <th>author</th>\n",
       "    </tr>\n",
       "  </thead>\n",
       "  <tbody>\n",
       "    <tr>\n",
       "      <td>0</td>\n",
       "      <td>1</td>\n",
       "      <td>A.S. Byatt</td>\n",
       "    </tr>\n",
       "    <tr>\n",
       "      <td>1</td>\n",
       "      <td>2</td>\n",
       "      <td>Aesop/Laura Harris/Laura Gibbs</td>\n",
       "    </tr>\n",
       "    <tr>\n",
       "      <td>2</td>\n",
       "      <td>3</td>\n",
       "      <td>Agatha Christie</td>\n",
       "    </tr>\n",
       "    <tr>\n",
       "      <td>3</td>\n",
       "      <td>4</td>\n",
       "      <td>Alan Brennert</td>\n",
       "    </tr>\n",
       "    <tr>\n",
       "      <td>4</td>\n",
       "      <td>5</td>\n",
       "      <td>Alan Moore/David   Lloyd</td>\n",
       "    </tr>\n",
       "  </tbody>\n",
       "</table>\n",
       "</div>"
      ],
      "text/plain": [
       "   author_id                          author\n",
       "0          1                      A.S. Byatt\n",
       "1          2  Aesop/Laura Harris/Laura Gibbs\n",
       "2          3                 Agatha Christie\n",
       "3          4                   Alan Brennert\n",
       "4          5        Alan Moore/David   Lloyd"
      ]
     },
     "execution_count": 7,
     "metadata": {},
     "output_type": "execute_result"
    }
   ],
   "source": [
    "sql('SELECT * FROM authors LIMIT 5')"
   ]
  },
  {
   "cell_type": "markdown",
   "metadata": {},
   "source": [
    "<b>Таблица authors.</b>\n",
    "<p></p>\n",
    "Содержит данные об авторах:\n",
    "<li>author_id — идентификатор автора;\n",
    "<li>author — имя автора."
   ]
  },
  {
   "cell_type": "markdown",
   "metadata": {},
   "source": [
    "## Задания.\n",
    "<p></p>\n",
    "<li>Посчитайте, сколько книг вышло после 1 января 2000 года;\n",
    "<li>Для каждой книги посчитайте количество обзоров и среднюю оценку;\n",
    "<li>Определите издательство, которое выпустило наибольшее число книг толще 50 страниц — так вы исключите из анализа брошюры;\n",
    "<li>Определите автора с самой высокой средней оценкой книг — учитывайте только книги с 50 и более оценками;\n",
    "<li>Посчитайте среднее количество обзоров от пользователей, которые поставили больше 50 оценок."
   ]
  },
  {
   "cell_type": "markdown",
   "metadata": {},
   "source": [
    "<b>Посчитайте, сколько книг вышло после 1 января 2000 года.</b>"
   ]
  },
  {
   "cell_type": "code",
   "execution_count": 8,
   "metadata": {},
   "outputs": [
    {
     "data": {
      "text/html": [
       "<div>\n",
       "<style scoped>\n",
       "    .dataframe tbody tr th:only-of-type {\n",
       "        vertical-align: middle;\n",
       "    }\n",
       "\n",
       "    .dataframe tbody tr th {\n",
       "        vertical-align: top;\n",
       "    }\n",
       "\n",
       "    .dataframe thead th {\n",
       "        text-align: right;\n",
       "    }\n",
       "</style>\n",
       "<table border=\"1\" class=\"dataframe\">\n",
       "  <thead>\n",
       "    <tr style=\"text-align: right;\">\n",
       "      <th></th>\n",
       "      <th>books_count</th>\n",
       "    </tr>\n",
       "  </thead>\n",
       "  <tbody>\n",
       "    <tr>\n",
       "      <td>0</td>\n",
       "      <td>819</td>\n",
       "    </tr>\n",
       "  </tbody>\n",
       "</table>\n",
       "</div>"
      ],
      "text/plain": [
       "   books_count\n",
       "0          819"
      ]
     },
     "execution_count": 8,
     "metadata": {},
     "output_type": "execute_result"
    }
   ],
   "source": [
    "sql('''\n",
    "SELECT COUNT(DISTINCT book_id) AS books_count \n",
    "FROM books \n",
    "WHERE publication_date > '2000-01-01'\n",
    "''')"
   ]
  },
  {
   "cell_type": "markdown",
   "metadata": {},
   "source": [
    "<b>Таких книг получилось 819.</b>"
   ]
  },
  {
   "cell_type": "markdown",
   "metadata": {},
   "source": [
    "<b>Для каждой книги посчитайте количество обзоров и среднюю оценку.</b>"
   ]
  },
  {
   "cell_type": "markdown",
   "metadata": {},
   "source": [
    "Эти данные можно получить из таблиц reviews и ratings."
   ]
  },
  {
   "cell_type": "code",
   "execution_count": 9,
   "metadata": {},
   "outputs": [
    {
     "data": {
      "text/html": [
       "<div>\n",
       "<style scoped>\n",
       "    .dataframe tbody tr th:only-of-type {\n",
       "        vertical-align: middle;\n",
       "    }\n",
       "\n",
       "    .dataframe tbody tr th {\n",
       "        vertical-align: top;\n",
       "    }\n",
       "\n",
       "    .dataframe thead th {\n",
       "        text-align: right;\n",
       "    }\n",
       "</style>\n",
       "<table border=\"1\" class=\"dataframe\">\n",
       "  <thead>\n",
       "    <tr style=\"text-align: right;\">\n",
       "      <th></th>\n",
       "      <th>book_id</th>\n",
       "      <th>review_cnt</th>\n",
       "      <th>avg_rate</th>\n",
       "    </tr>\n",
       "  </thead>\n",
       "  <tbody>\n",
       "    <tr>\n",
       "      <td>0</td>\n",
       "      <td>948</td>\n",
       "      <td>7</td>\n",
       "      <td>3.662500</td>\n",
       "    </tr>\n",
       "    <tr>\n",
       "      <td>1</td>\n",
       "      <td>696</td>\n",
       "      <td>6</td>\n",
       "      <td>3.830508</td>\n",
       "    </tr>\n",
       "    <tr>\n",
       "      <td>2</td>\n",
       "      <td>207</td>\n",
       "      <td>6</td>\n",
       "      <td>3.395833</td>\n",
       "    </tr>\n",
       "    <tr>\n",
       "      <td>3</td>\n",
       "      <td>627</td>\n",
       "      <td>6</td>\n",
       "      <td>3.789474</td>\n",
       "    </tr>\n",
       "    <tr>\n",
       "      <td>4</td>\n",
       "      <td>673</td>\n",
       "      <td>6</td>\n",
       "      <td>3.825581</td>\n",
       "    </tr>\n",
       "    <tr>\n",
       "      <td>5</td>\n",
       "      <td>695</td>\n",
       "      <td>6</td>\n",
       "      <td>4.081081</td>\n",
       "    </tr>\n",
       "    <tr>\n",
       "      <td>6</td>\n",
       "      <td>302</td>\n",
       "      <td>6</td>\n",
       "      <td>4.414634</td>\n",
       "    </tr>\n",
       "    <tr>\n",
       "      <td>7</td>\n",
       "      <td>299</td>\n",
       "      <td>6</td>\n",
       "      <td>4.287500</td>\n",
       "    </tr>\n",
       "    <tr>\n",
       "      <td>8</td>\n",
       "      <td>497</td>\n",
       "      <td>6</td>\n",
       "      <td>4.125000</td>\n",
       "    </tr>\n",
       "    <tr>\n",
       "      <td>9</td>\n",
       "      <td>656</td>\n",
       "      <td>6</td>\n",
       "      <td>4.264151</td>\n",
       "    </tr>\n",
       "  </tbody>\n",
       "</table>\n",
       "</div>"
      ],
      "text/plain": [
       "   book_id  review_cnt  avg_rate\n",
       "0      948           7  3.662500\n",
       "1      696           6  3.830508\n",
       "2      207           6  3.395833\n",
       "3      627           6  3.789474\n",
       "4      673           6  3.825581\n",
       "5      695           6  4.081081\n",
       "6      302           6  4.414634\n",
       "7      299           6  4.287500\n",
       "8      497           6  4.125000\n",
       "9      656           6  4.264151"
      ]
     },
     "execution_count": 9,
     "metadata": {},
     "output_type": "execute_result"
    }
   ],
   "source": [
    "sql('''\n",
    "SELECT reviews.book_id,\n",
    "       COUNT(DISTINCT(review_id)) AS review_cnt,\n",
    "       AVG(rating) AS avg_rate\n",
    "FROM reviews\n",
    "INNER JOIN ratings ON reviews.book_id=ratings.book_id\n",
    "GROUP BY reviews.book_id\n",
    "ORDER BY review_cnt DESC\n",
    "LIMIT 10\n",
    "''')"
   ]
  },
  {
   "cell_type": "code",
   "execution_count": 19,
   "metadata": {},
   "outputs": [
    {
     "data": {
      "text/html": [
       "<div>\n",
       "<style scoped>\n",
       "    .dataframe tbody tr th:only-of-type {\n",
       "        vertical-align: middle;\n",
       "    }\n",
       "\n",
       "    .dataframe tbody tr th {\n",
       "        vertical-align: top;\n",
       "    }\n",
       "\n",
       "    .dataframe thead th {\n",
       "        text-align: right;\n",
       "    }\n",
       "</style>\n",
       "<table border=\"1\" class=\"dataframe\">\n",
       "  <thead>\n",
       "    <tr style=\"text-align: right;\">\n",
       "      <th></th>\n",
       "      <th>avg_review_count</th>\n",
       "      <th>avg_rate</th>\n",
       "    </tr>\n",
       "  </thead>\n",
       "  <tbody>\n",
       "    <tr>\n",
       "      <td>0</td>\n",
       "      <td>2.809859</td>\n",
       "      <td>3.898699</td>\n",
       "    </tr>\n",
       "  </tbody>\n",
       "</table>\n",
       "</div>"
      ],
      "text/plain": [
       "   avg_review_count  avg_rate\n",
       "0          2.809859  3.898699"
      ]
     },
     "execution_count": 19,
     "metadata": {},
     "output_type": "execute_result"
    }
   ],
   "source": [
    "sql('''\n",
    "SELECT \n",
    "AVG(sub.review_cnt) AS avg_review_count,\n",
    "AVG(sub.avg_rate) AS avg_rate\n",
    "FROM\n",
    "(SELECT reviews.book_id,\n",
    "       COUNT(DISTINCT(review_id)) AS review_cnt,\n",
    "       AVG(rating) AS avg_rate\n",
    "FROM reviews\n",
    "INNER JOIN ratings ON reviews.book_id=ratings.book_id\n",
    "GROUP BY reviews.book_id\n",
    "ORDER BY review_cnt DESC) AS sub\n",
    "''')"
   ]
  },
  {
   "cell_type": "markdown",
   "metadata": {},
   "source": [
    "<b>В среднем, на одну книгу приходится 2-3 обзора и средняя оценка 3.9. </b>"
   ]
  },
  {
   "cell_type": "markdown",
   "metadata": {},
   "source": [
    "<b>Определите издательство, которое выпустило наибольшее число книг толще 50 страниц (для исключения из анализа брошюр).</b>"
   ]
  },
  {
   "cell_type": "markdown",
   "metadata": {},
   "source": [
    "Для этого сформирую запрос в таблице books."
   ]
  },
  {
   "cell_type": "code",
   "execution_count": 21,
   "metadata": {},
   "outputs": [
    {
     "data": {
      "text/html": [
       "<div>\n",
       "<style scoped>\n",
       "    .dataframe tbody tr th:only-of-type {\n",
       "        vertical-align: middle;\n",
       "    }\n",
       "\n",
       "    .dataframe tbody tr th {\n",
       "        vertical-align: top;\n",
       "    }\n",
       "\n",
       "    .dataframe thead th {\n",
       "        text-align: right;\n",
       "    }\n",
       "</style>\n",
       "<table border=\"1\" class=\"dataframe\">\n",
       "  <thead>\n",
       "    <tr style=\"text-align: right;\">\n",
       "      <th></th>\n",
       "      <th>publisher</th>\n",
       "      <th>count</th>\n",
       "    </tr>\n",
       "  </thead>\n",
       "  <tbody>\n",
       "    <tr>\n",
       "      <td>0</td>\n",
       "      <td>Penguin Books</td>\n",
       "      <td>42</td>\n",
       "    </tr>\n",
       "    <tr>\n",
       "      <td>1</td>\n",
       "      <td>Vintage</td>\n",
       "      <td>31</td>\n",
       "    </tr>\n",
       "    <tr>\n",
       "      <td>2</td>\n",
       "      <td>Grand Central Publishing</td>\n",
       "      <td>25</td>\n",
       "    </tr>\n",
       "    <tr>\n",
       "      <td>3</td>\n",
       "      <td>Penguin Classics</td>\n",
       "      <td>24</td>\n",
       "    </tr>\n",
       "    <tr>\n",
       "      <td>4</td>\n",
       "      <td>Bantam</td>\n",
       "      <td>19</td>\n",
       "    </tr>\n",
       "  </tbody>\n",
       "</table>\n",
       "</div>"
      ],
      "text/plain": [
       "                  publisher  count\n",
       "0             Penguin Books     42\n",
       "1                   Vintage     31\n",
       "2  Grand Central Publishing     25\n",
       "3          Penguin Classics     24\n",
       "4                    Bantam     19"
      ]
     },
     "execution_count": 21,
     "metadata": {},
     "output_type": "execute_result"
    }
   ],
   "source": [
    "sql('''\n",
    "SELECT publishers.publisher, \n",
    "COUNT(book_id) \n",
    "FROM books INNER JOIN publishers ON publishers.publisher_id=books.publisher_id\n",
    "WHERE num_pages > 50 \n",
    "GROUP BY publishers.publisher_id \n",
    "ORDER BY count DESC LIMIT 5\n",
    "''')\n"
   ]
  },
  {
   "cell_type": "markdown",
   "metadata": {},
   "source": [
    "<b>На первом месте издательство Penguin Books с 42 выпущенными книгами толще 50 страниц. На втором месте издательство Vintage и 31 книга, на третьем изательство Grand Central Publishing и 25 книг.</b>"
   ]
  },
  {
   "cell_type": "markdown",
   "metadata": {},
   "source": [
    "<b>Определите автора с самой высокой средней оценкой книг — учитывайте только книги с 50 и более оценками.</b>"
   ]
  },
  {
   "cell_type": "markdown",
   "metadata": {},
   "source": [
    "Для этого объединю таблицы books и ratings  сформулирую запрос."
   ]
  },
  {
   "cell_type": "markdown",
   "metadata": {},
   "source": [
    "Таблица с book_id, которые получили больше 50 оценок и самый высокий средний рейтинг. Таких всего 19."
   ]
  },
  {
   "cell_type": "code",
   "execution_count": 13,
   "metadata": {},
   "outputs": [
    {
     "data": {
      "text/html": [
       "<div>\n",
       "<style scoped>\n",
       "    .dataframe tbody tr th:only-of-type {\n",
       "        vertical-align: middle;\n",
       "    }\n",
       "\n",
       "    .dataframe tbody tr th {\n",
       "        vertical-align: top;\n",
       "    }\n",
       "\n",
       "    .dataframe thead th {\n",
       "        text-align: right;\n",
       "    }\n",
       "</style>\n",
       "<table border=\"1\" class=\"dataframe\">\n",
       "  <thead>\n",
       "    <tr style=\"text-align: right;\">\n",
       "      <th></th>\n",
       "      <th>book_id</th>\n",
       "      <th>count_score</th>\n",
       "      <th>avg_rate</th>\n",
       "    </tr>\n",
       "  </thead>\n",
       "  <tbody>\n",
       "    <tr>\n",
       "      <td>0</td>\n",
       "      <td>75</td>\n",
       "      <td>84</td>\n",
       "      <td>3.678571</td>\n",
       "    </tr>\n",
       "    <tr>\n",
       "      <td>1</td>\n",
       "      <td>627</td>\n",
       "      <td>57</td>\n",
       "      <td>3.789474</td>\n",
       "    </tr>\n",
       "    <tr>\n",
       "      <td>2</td>\n",
       "      <td>299</td>\n",
       "      <td>80</td>\n",
       "      <td>4.287500</td>\n",
       "    </tr>\n",
       "    <tr>\n",
       "      <td>3</td>\n",
       "      <td>79</td>\n",
       "      <td>74</td>\n",
       "      <td>3.729730</td>\n",
       "    </tr>\n",
       "    <tr>\n",
       "      <td>4</td>\n",
       "      <td>302</td>\n",
       "      <td>82</td>\n",
       "      <td>4.414634</td>\n",
       "    </tr>\n",
       "    <tr>\n",
       "      <td>5</td>\n",
       "      <td>301</td>\n",
       "      <td>75</td>\n",
       "      <td>4.186667</td>\n",
       "    </tr>\n",
       "    <tr>\n",
       "      <td>6</td>\n",
       "      <td>545</td>\n",
       "      <td>66</td>\n",
       "      <td>3.787879</td>\n",
       "    </tr>\n",
       "    <tr>\n",
       "      <td>7</td>\n",
       "      <td>399</td>\n",
       "      <td>52</td>\n",
       "      <td>4.192308</td>\n",
       "    </tr>\n",
       "    <tr>\n",
       "      <td>8</td>\n",
       "      <td>948</td>\n",
       "      <td>160</td>\n",
       "      <td>3.662500</td>\n",
       "    </tr>\n",
       "    <tr>\n",
       "      <td>9</td>\n",
       "      <td>722</td>\n",
       "      <td>74</td>\n",
       "      <td>4.391892</td>\n",
       "    </tr>\n",
       "    <tr>\n",
       "      <td>10</td>\n",
       "      <td>300</td>\n",
       "      <td>73</td>\n",
       "      <td>4.246575</td>\n",
       "    </tr>\n",
       "    <tr>\n",
       "      <td>11</td>\n",
       "      <td>488</td>\n",
       "      <td>61</td>\n",
       "      <td>3.622951</td>\n",
       "    </tr>\n",
       "    <tr>\n",
       "      <td>12</td>\n",
       "      <td>696</td>\n",
       "      <td>59</td>\n",
       "      <td>3.830508</td>\n",
       "    </tr>\n",
       "    <tr>\n",
       "      <td>13</td>\n",
       "      <td>779</td>\n",
       "      <td>62</td>\n",
       "      <td>4.080645</td>\n",
       "    </tr>\n",
       "    <tr>\n",
       "      <td>14</td>\n",
       "      <td>673</td>\n",
       "      <td>86</td>\n",
       "      <td>3.825581</td>\n",
       "    </tr>\n",
       "    <tr>\n",
       "      <td>15</td>\n",
       "      <td>405</td>\n",
       "      <td>71</td>\n",
       "      <td>3.901408</td>\n",
       "    </tr>\n",
       "    <tr>\n",
       "      <td>16</td>\n",
       "      <td>750</td>\n",
       "      <td>88</td>\n",
       "      <td>4.125000</td>\n",
       "    </tr>\n",
       "    <tr>\n",
       "      <td>17</td>\n",
       "      <td>656</td>\n",
       "      <td>53</td>\n",
       "      <td>4.264151</td>\n",
       "    </tr>\n",
       "    <tr>\n",
       "      <td>18</td>\n",
       "      <td>733</td>\n",
       "      <td>56</td>\n",
       "      <td>3.750000</td>\n",
       "    </tr>\n",
       "  </tbody>\n",
       "</table>\n",
       "</div>"
      ],
      "text/plain": [
       "    book_id  count_score  avg_rate\n",
       "0        75           84  3.678571\n",
       "1       627           57  3.789474\n",
       "2       299           80  4.287500\n",
       "3        79           74  3.729730\n",
       "4       302           82  4.414634\n",
       "5       301           75  4.186667\n",
       "6       545           66  3.787879\n",
       "7       399           52  4.192308\n",
       "8       948          160  3.662500\n",
       "9       722           74  4.391892\n",
       "10      300           73  4.246575\n",
       "11      488           61  3.622951\n",
       "12      696           59  3.830508\n",
       "13      779           62  4.080645\n",
       "14      673           86  3.825581\n",
       "15      405           71  3.901408\n",
       "16      750           88  4.125000\n",
       "17      656           53  4.264151\n",
       "18      733           56  3.750000"
      ]
     },
     "execution_count": 13,
     "metadata": {},
     "output_type": "execute_result"
    }
   ],
   "source": [
    "sql('''\n",
    "SELECT\n",
    "DISTINCT(book_id),\n",
    "sub.count_score,\n",
    "sub.avg_rate\n",
    "FROM\n",
    "(SELECT \n",
    "book_id,\n",
    "COUNT(DISTINCT(rating_id)) AS count_score,\n",
    "AVG(rating) AS avg_rate\n",
    "FROM ratings\n",
    "GROUP BY book_id\n",
    "ORDER BY avg_rate DESC) AS sub\n",
    "WHERE sub.count_score >= 50\n",
    "\n",
    "''')"
   ]
  },
  {
   "cell_type": "markdown",
   "metadata": {},
   "source": [
    "По book_id отобранных книг определяю author_id."
   ]
  },
  {
   "cell_type": "code",
   "execution_count": 14,
   "metadata": {},
   "outputs": [
    {
     "data": {
      "text/html": [
       "<div>\n",
       "<style scoped>\n",
       "    .dataframe tbody tr th:only-of-type {\n",
       "        vertical-align: middle;\n",
       "    }\n",
       "\n",
       "    .dataframe tbody tr th {\n",
       "        vertical-align: top;\n",
       "    }\n",
       "\n",
       "    .dataframe thead th {\n",
       "        text-align: right;\n",
       "    }\n",
       "</style>\n",
       "<table border=\"1\" class=\"dataframe\">\n",
       "  <thead>\n",
       "    <tr style=\"text-align: right;\">\n",
       "      <th></th>\n",
       "      <th>author_id</th>\n",
       "      <th>avg_rate</th>\n",
       "      <th>count_score</th>\n",
       "    </tr>\n",
       "  </thead>\n",
       "  <tbody>\n",
       "    <tr>\n",
       "      <td>0</td>\n",
       "      <td>236</td>\n",
       "      <td>4.414634</td>\n",
       "      <td>82</td>\n",
       "    </tr>\n",
       "    <tr>\n",
       "      <td>1</td>\n",
       "      <td>240</td>\n",
       "      <td>4.391892</td>\n",
       "      <td>74</td>\n",
       "    </tr>\n",
       "    <tr>\n",
       "      <td>2</td>\n",
       "      <td>236</td>\n",
       "      <td>4.287500</td>\n",
       "      <td>80</td>\n",
       "    </tr>\n",
       "    <tr>\n",
       "      <td>3</td>\n",
       "      <td>402</td>\n",
       "      <td>4.264151</td>\n",
       "      <td>53</td>\n",
       "    </tr>\n",
       "    <tr>\n",
       "      <td>4</td>\n",
       "      <td>236</td>\n",
       "      <td>4.246575</td>\n",
       "      <td>73</td>\n",
       "    </tr>\n",
       "    <tr>\n",
       "      <td>5</td>\n",
       "      <td>376</td>\n",
       "      <td>4.192308</td>\n",
       "      <td>52</td>\n",
       "    </tr>\n",
       "    <tr>\n",
       "      <td>6</td>\n",
       "      <td>236</td>\n",
       "      <td>4.186667</td>\n",
       "      <td>75</td>\n",
       "    </tr>\n",
       "    <tr>\n",
       "      <td>7</td>\n",
       "      <td>240</td>\n",
       "      <td>4.125000</td>\n",
       "      <td>88</td>\n",
       "    </tr>\n",
       "    <tr>\n",
       "      <td>8</td>\n",
       "      <td>498</td>\n",
       "      <td>4.080645</td>\n",
       "      <td>62</td>\n",
       "    </tr>\n",
       "    <tr>\n",
       "      <td>9</td>\n",
       "      <td>621</td>\n",
       "      <td>3.901408</td>\n",
       "      <td>71</td>\n",
       "    </tr>\n",
       "    <tr>\n",
       "      <td>10</td>\n",
       "      <td>106</td>\n",
       "      <td>3.830508</td>\n",
       "      <td>59</td>\n",
       "    </tr>\n",
       "    <tr>\n",
       "      <td>11</td>\n",
       "      <td>235</td>\n",
       "      <td>3.825581</td>\n",
       "      <td>86</td>\n",
       "    </tr>\n",
       "    <tr>\n",
       "      <td>12</td>\n",
       "      <td>469</td>\n",
       "      <td>3.789474</td>\n",
       "      <td>57</td>\n",
       "    </tr>\n",
       "    <tr>\n",
       "      <td>13</td>\n",
       "      <td>630</td>\n",
       "      <td>3.787879</td>\n",
       "      <td>66</td>\n",
       "    </tr>\n",
       "    <tr>\n",
       "      <td>14</td>\n",
       "      <td>372</td>\n",
       "      <td>3.750000</td>\n",
       "      <td>56</td>\n",
       "    </tr>\n",
       "    <tr>\n",
       "      <td>15</td>\n",
       "      <td>195</td>\n",
       "      <td>3.729730</td>\n",
       "      <td>74</td>\n",
       "    </tr>\n",
       "    <tr>\n",
       "      <td>16</td>\n",
       "      <td>106</td>\n",
       "      <td>3.678571</td>\n",
       "      <td>84</td>\n",
       "    </tr>\n",
       "    <tr>\n",
       "      <td>17</td>\n",
       "      <td>554</td>\n",
       "      <td>3.662500</td>\n",
       "      <td>160</td>\n",
       "    </tr>\n",
       "    <tr>\n",
       "      <td>18</td>\n",
       "      <td>311</td>\n",
       "      <td>3.622951</td>\n",
       "      <td>61</td>\n",
       "    </tr>\n",
       "  </tbody>\n",
       "</table>\n",
       "</div>"
      ],
      "text/plain": [
       "    author_id  avg_rate  count_score\n",
       "0         236  4.414634           82\n",
       "1         240  4.391892           74\n",
       "2         236  4.287500           80\n",
       "3         402  4.264151           53\n",
       "4         236  4.246575           73\n",
       "5         376  4.192308           52\n",
       "6         236  4.186667           75\n",
       "7         240  4.125000           88\n",
       "8         498  4.080645           62\n",
       "9         621  3.901408           71\n",
       "10        106  3.830508           59\n",
       "11        235  3.825581           86\n",
       "12        469  3.789474           57\n",
       "13        630  3.787879           66\n",
       "14        372  3.750000           56\n",
       "15        195  3.729730           74\n",
       "16        106  3.678571           84\n",
       "17        554  3.662500          160\n",
       "18        311  3.622951           61"
      ]
     },
     "execution_count": 14,
     "metadata": {},
     "output_type": "execute_result"
    }
   ],
   "source": [
    "sql('''\n",
    "SELECT\n",
    "author_id,\n",
    "sub2.avg_rate,\n",
    "sub2.count_score\n",
    "FROM books INNER JOIN \n",
    "(SELECT\n",
    "DISTINCT(book_id),\n",
    "sub.avg_rate,\n",
    "sub.count_score\n",
    "FROM\n",
    "(SELECT \n",
    "book_id,\n",
    "COUNT(DISTINCT(rating_id)) AS count_score,\n",
    "AVG(rating) AS avg_rate\n",
    "FROM ratings\n",
    "GROUP BY book_id\n",
    "ORDER BY avg_rate DESC) AS sub\n",
    "WHERE sub.count_score >= 50) AS sub2\n",
    "ON books.book_id=sub2.book_id\n",
    "ORDER BY avg_rate DESC\n",
    "''')"
   ]
  },
  {
   "cell_type": "markdown",
   "metadata": {},
   "source": [
    "Теперь легко найти имена авторов."
   ]
  },
  {
   "cell_type": "code",
   "execution_count": 15,
   "metadata": {},
   "outputs": [
    {
     "data": {
      "text/html": [
       "<div>\n",
       "<style scoped>\n",
       "    .dataframe tbody tr th:only-of-type {\n",
       "        vertical-align: middle;\n",
       "    }\n",
       "\n",
       "    .dataframe tbody tr th {\n",
       "        vertical-align: top;\n",
       "    }\n",
       "\n",
       "    .dataframe thead th {\n",
       "        text-align: right;\n",
       "    }\n",
       "</style>\n",
       "<table border=\"1\" class=\"dataframe\">\n",
       "  <thead>\n",
       "    <tr style=\"text-align: right;\">\n",
       "      <th></th>\n",
       "      <th>author</th>\n",
       "      <th>count_score</th>\n",
       "      <th>avg_avg_rate</th>\n",
       "    </tr>\n",
       "  </thead>\n",
       "  <tbody>\n",
       "    <tr>\n",
       "      <td>0</td>\n",
       "      <td>J.K. Rowling/Mary GrandPré</td>\n",
       "      <td>77.5</td>\n",
       "      <td>4.283844</td>\n",
       "    </tr>\n",
       "    <tr>\n",
       "      <td>1</td>\n",
       "      <td>Markus Zusak/Cao Xuân Việt Khương</td>\n",
       "      <td>53.0</td>\n",
       "      <td>4.264151</td>\n",
       "    </tr>\n",
       "    <tr>\n",
       "      <td>2</td>\n",
       "      <td>J.R.R. Tolkien</td>\n",
       "      <td>81.0</td>\n",
       "      <td>4.258446</td>\n",
       "    </tr>\n",
       "    <tr>\n",
       "      <td>3</td>\n",
       "      <td>Louisa May Alcott</td>\n",
       "      <td>52.0</td>\n",
       "      <td>4.192308</td>\n",
       "    </tr>\n",
       "    <tr>\n",
       "      <td>4</td>\n",
       "      <td>Rick Riordan</td>\n",
       "      <td>62.0</td>\n",
       "      <td>4.080645</td>\n",
       "    </tr>\n",
       "    <tr>\n",
       "      <td>5</td>\n",
       "      <td>William Golding</td>\n",
       "      <td>71.0</td>\n",
       "      <td>3.901408</td>\n",
       "    </tr>\n",
       "    <tr>\n",
       "      <td>6</td>\n",
       "      <td>J.D. Salinger</td>\n",
       "      <td>86.0</td>\n",
       "      <td>3.825581</td>\n",
       "    </tr>\n",
       "    <tr>\n",
       "      <td>7</td>\n",
       "      <td>Paulo Coelho/Alan R. Clarke/Özdemir İnce</td>\n",
       "      <td>57.0</td>\n",
       "      <td>3.789474</td>\n",
       "    </tr>\n",
       "    <tr>\n",
       "      <td>8</td>\n",
       "      <td>William Shakespeare/Paul Werstine/Barbara A. M...</td>\n",
       "      <td>66.0</td>\n",
       "      <td>3.787879</td>\n",
       "    </tr>\n",
       "    <tr>\n",
       "      <td>9</td>\n",
       "      <td>Dan Brown</td>\n",
       "      <td>71.5</td>\n",
       "      <td>3.754540</td>\n",
       "    </tr>\n",
       "    <tr>\n",
       "      <td>10</td>\n",
       "      <td>Lois Lowry</td>\n",
       "      <td>56.0</td>\n",
       "      <td>3.750000</td>\n",
       "    </tr>\n",
       "    <tr>\n",
       "      <td>11</td>\n",
       "      <td>George Orwell/Boris Grabnar/Peter Škerl</td>\n",
       "      <td>74.0</td>\n",
       "      <td>3.729730</td>\n",
       "    </tr>\n",
       "    <tr>\n",
       "      <td>12</td>\n",
       "      <td>Stephenie Meyer</td>\n",
       "      <td>160.0</td>\n",
       "      <td>3.662500</td>\n",
       "    </tr>\n",
       "    <tr>\n",
       "      <td>13</td>\n",
       "      <td>John Steinbeck</td>\n",
       "      <td>61.0</td>\n",
       "      <td>3.622951</td>\n",
       "    </tr>\n",
       "  </tbody>\n",
       "</table>\n",
       "</div>"
      ],
      "text/plain": [
       "                                               author  count_score  \\\n",
       "0                          J.K. Rowling/Mary GrandPré         77.5   \n",
       "1                   Markus Zusak/Cao Xuân Việt Khương         53.0   \n",
       "2                                      J.R.R. Tolkien         81.0   \n",
       "3                                   Louisa May Alcott         52.0   \n",
       "4                                        Rick Riordan         62.0   \n",
       "5                                     William Golding         71.0   \n",
       "6                                       J.D. Salinger         86.0   \n",
       "7            Paulo Coelho/Alan R. Clarke/Özdemir İnce         57.0   \n",
       "8   William Shakespeare/Paul Werstine/Barbara A. M...         66.0   \n",
       "9                                           Dan Brown         71.5   \n",
       "10                                         Lois Lowry         56.0   \n",
       "11            George Orwell/Boris Grabnar/Peter Škerl         74.0   \n",
       "12                                    Stephenie Meyer        160.0   \n",
       "13                                     John Steinbeck         61.0   \n",
       "\n",
       "    avg_avg_rate  \n",
       "0       4.283844  \n",
       "1       4.264151  \n",
       "2       4.258446  \n",
       "3       4.192308  \n",
       "4       4.080645  \n",
       "5       3.901408  \n",
       "6       3.825581  \n",
       "7       3.789474  \n",
       "8       3.787879  \n",
       "9       3.754540  \n",
       "10      3.750000  \n",
       "11      3.729730  \n",
       "12      3.662500  \n",
       "13      3.622951  "
      ]
     },
     "execution_count": 15,
     "metadata": {},
     "output_type": "execute_result"
    }
   ],
   "source": [
    "sql('''\n",
    "SELECT\n",
    "sub4.author,\n",
    "AVG(sub4.count_score) AS count_score,\n",
    "AVG(avg_rate) AS avg_avg_rate\n",
    "FROM\n",
    "(SELECT\n",
    "DISTINCT(author),\n",
    "sub3.count_score,\n",
    "sub3.avg_rate\n",
    "FROM authors INNER JOIN\n",
    "(SELECT\n",
    "DISTINCT(author_id),\n",
    "sub2.avg_rate,\n",
    "sub2.count_score\n",
    "FROM books INNER JOIN \n",
    "(SELECT\n",
    "DISTINCT(book_id),\n",
    "sub.avg_rate,\n",
    "sub.count_score\n",
    "FROM\n",
    "(SELECT \n",
    "book_id,\n",
    "COUNT(DISTINCT(rating_id)) AS count_score,\n",
    "AVG(rating) AS avg_rate\n",
    "FROM ratings\n",
    "GROUP BY book_id\n",
    "ORDER BY avg_rate DESC) AS sub\n",
    "WHERE sub.count_score >= 50) AS sub2\n",
    "ON books.book_id=sub2.book_id) AS sub3\n",
    "ON authors.author_id=sub3.author_id\n",
    "ORDER BY avg_rate DESC) AS sub4\n",
    "GROUP BY sub4.author\n",
    "ORDER BY avg_avg_rate DESC\n",
    "''')"
   ]
  },
  {
   "cell_type": "markdown",
   "metadata": {},
   "source": [
    "<b>Я вывел список всех авторов с количеством оценок больше 50. Так как их немного. Но первое место у J.K. Rowling/Mary GrandPré.</b>"
   ]
  },
  {
   "cell_type": "markdown",
   "metadata": {},
   "source": [
    "<b>Посчитайте среднее количество обзоров от пользователей, которые поставили больше 50 оценок.</b>"
   ]
  },
  {
   "cell_type": "markdown",
   "metadata": {},
   "source": [
    "Найду username пользователей, поставивших больше 50 оценок."
   ]
  },
  {
   "cell_type": "code",
   "execution_count": 16,
   "metadata": {},
   "outputs": [
    {
     "data": {
      "text/html": [
       "<div>\n",
       "<style scoped>\n",
       "    .dataframe tbody tr th:only-of-type {\n",
       "        vertical-align: middle;\n",
       "    }\n",
       "\n",
       "    .dataframe tbody tr th {\n",
       "        vertical-align: top;\n",
       "    }\n",
       "\n",
       "    .dataframe thead th {\n",
       "        text-align: right;\n",
       "    }\n",
       "</style>\n",
       "<table border=\"1\" class=\"dataframe\">\n",
       "  <thead>\n",
       "    <tr style=\"text-align: right;\">\n",
       "      <th></th>\n",
       "      <th>username</th>\n",
       "      <th>count</th>\n",
       "    </tr>\n",
       "  </thead>\n",
       "  <tbody>\n",
       "    <tr>\n",
       "      <td>0</td>\n",
       "      <td>sfitzgerald</td>\n",
       "      <td>55</td>\n",
       "    </tr>\n",
       "    <tr>\n",
       "      <td>1</td>\n",
       "      <td>jennifermiller</td>\n",
       "      <td>53</td>\n",
       "    </tr>\n",
       "    <tr>\n",
       "      <td>2</td>\n",
       "      <td>xdavis</td>\n",
       "      <td>51</td>\n",
       "    </tr>\n",
       "    <tr>\n",
       "      <td>3</td>\n",
       "      <td>paul88</td>\n",
       "      <td>56</td>\n",
       "    </tr>\n",
       "    <tr>\n",
       "      <td>4</td>\n",
       "      <td>martinadam</td>\n",
       "      <td>56</td>\n",
       "    </tr>\n",
       "    <tr>\n",
       "      <td>5</td>\n",
       "      <td>richard89</td>\n",
       "      <td>55</td>\n",
       "    </tr>\n",
       "  </tbody>\n",
       "</table>\n",
       "</div>"
      ],
      "text/plain": [
       "         username  count\n",
       "0     sfitzgerald     55\n",
       "1  jennifermiller     53\n",
       "2          xdavis     51\n",
       "3          paul88     56\n",
       "4      martinadam     56\n",
       "5       richard89     55"
      ]
     },
     "execution_count": 16,
     "metadata": {},
     "output_type": "execute_result"
    }
   ],
   "source": [
    "sql('''\n",
    "SELECT\n",
    "*\n",
    "FROM\n",
    "(SELECT\n",
    "username,\n",
    "COUNT(rating_id)\n",
    "FROM ratings\n",
    "GROUP BY username) AS sub\n",
    "WHERE sub.count > 50\n",
    "''')"
   ]
  },
  {
   "cell_type": "markdown",
   "metadata": {},
   "source": [
    "<b>Таких оказалось всего 6. </b>Теперь посчитаю количество обзоров этих пользователей."
   ]
  },
  {
   "cell_type": "code",
   "execution_count": 17,
   "metadata": {},
   "outputs": [
    {
     "data": {
      "text/html": [
       "<div>\n",
       "<style scoped>\n",
       "    .dataframe tbody tr th:only-of-type {\n",
       "        vertical-align: middle;\n",
       "    }\n",
       "\n",
       "    .dataframe tbody tr th {\n",
       "        vertical-align: top;\n",
       "    }\n",
       "\n",
       "    .dataframe thead th {\n",
       "        text-align: right;\n",
       "    }\n",
       "</style>\n",
       "<table border=\"1\" class=\"dataframe\">\n",
       "  <thead>\n",
       "    <tr style=\"text-align: right;\">\n",
       "      <th></th>\n",
       "      <th>username</th>\n",
       "      <th>count</th>\n",
       "    </tr>\n",
       "  </thead>\n",
       "  <tbody>\n",
       "    <tr>\n",
       "      <td>0</td>\n",
       "      <td>sfitzgerald</td>\n",
       "      <td>28</td>\n",
       "    </tr>\n",
       "    <tr>\n",
       "      <td>1</td>\n",
       "      <td>martinadam</td>\n",
       "      <td>27</td>\n",
       "    </tr>\n",
       "    <tr>\n",
       "      <td>2</td>\n",
       "      <td>richard89</td>\n",
       "      <td>26</td>\n",
       "    </tr>\n",
       "    <tr>\n",
       "      <td>3</td>\n",
       "      <td>jennifermiller</td>\n",
       "      <td>25</td>\n",
       "    </tr>\n",
       "    <tr>\n",
       "      <td>4</td>\n",
       "      <td>paul88</td>\n",
       "      <td>22</td>\n",
       "    </tr>\n",
       "    <tr>\n",
       "      <td>5</td>\n",
       "      <td>xdavis</td>\n",
       "      <td>18</td>\n",
       "    </tr>\n",
       "  </tbody>\n",
       "</table>\n",
       "</div>"
      ],
      "text/plain": [
       "         username  count\n",
       "0     sfitzgerald     28\n",
       "1      martinadam     27\n",
       "2       richard89     26\n",
       "3  jennifermiller     25\n",
       "4          paul88     22\n",
       "5          xdavis     18"
      ]
     },
     "execution_count": 17,
     "metadata": {},
     "output_type": "execute_result"
    }
   ],
   "source": [
    "sql('''\n",
    "SELECT\n",
    "sub2.username,\n",
    "COUNT(review_id)\n",
    "FROM reviews INNER JOIN \n",
    "(SELECT\n",
    "*\n",
    "FROM\n",
    "(SELECT\n",
    "username,\n",
    "COUNT(rating_id)\n",
    "FROM ratings\n",
    "GROUP BY username) AS sub\n",
    "WHERE sub.count > 50) AS sub2\n",
    "ON reviews.username=sub2.username\n",
    "GROUP BY sub2.username\n",
    "ORDER BY count DESC\n",
    "''')"
   ]
  },
  {
   "cell_type": "markdown",
   "metadata": {},
   "source": [
    "<b>Самый продуктивный обозреватель - sfitzgerald. У него 28 обзора.</b> Теперь найду среднее."
   ]
  },
  {
   "cell_type": "code",
   "execution_count": 22,
   "metadata": {},
   "outputs": [
    {
     "data": {
      "text/html": [
       "<div>\n",
       "<style scoped>\n",
       "    .dataframe tbody tr th:only-of-type {\n",
       "        vertical-align: middle;\n",
       "    }\n",
       "\n",
       "    .dataframe tbody tr th {\n",
       "        vertical-align: top;\n",
       "    }\n",
       "\n",
       "    .dataframe thead th {\n",
       "        text-align: right;\n",
       "    }\n",
       "</style>\n",
       "<table border=\"1\" class=\"dataframe\">\n",
       "  <thead>\n",
       "    <tr style=\"text-align: right;\">\n",
       "      <th></th>\n",
       "      <th>avg_reviews</th>\n",
       "    </tr>\n",
       "  </thead>\n",
       "  <tbody>\n",
       "    <tr>\n",
       "      <td>0</td>\n",
       "      <td>24.333333</td>\n",
       "    </tr>\n",
       "  </tbody>\n",
       "</table>\n",
       "</div>"
      ],
      "text/plain": [
       "   avg_reviews\n",
       "0    24.333333"
      ]
     },
     "execution_count": 22,
     "metadata": {},
     "output_type": "execute_result"
    }
   ],
   "source": [
    "sql('''\n",
    "SELECT\n",
    "AVG(sub3.count) AS avg_reviews\n",
    "FROM\n",
    "(SELECT\n",
    "sub2.username,\n",
    "COUNT(review_id)\n",
    "FROM reviews INNER JOIN \n",
    "(SELECT\n",
    "*\n",
    "FROM\n",
    "(SELECT\n",
    "username,\n",
    "COUNT(rating_id)\n",
    "FROM ratings\n",
    "GROUP BY username) AS sub\n",
    "WHERE sub.count > 50) AS sub2\n",
    "ON reviews.username=sub2.username\n",
    "GROUP BY sub2.username\n",
    "ORDER BY count DESC) AS sub3\n",
    "''')"
   ]
  },
  {
   "cell_type": "markdown",
   "metadata": {},
   "source": [
    "<b>Среднее количество обзоров для обозревателей, поставивших больше 50 оценок - 24.</b>"
   ]
  },
  {
   "cell_type": "markdown",
   "metadata": {},
   "source": [
    "## Выводы:"
   ]
  },
  {
   "cell_type": "markdown",
   "metadata": {},
   "source": [
    "<p></p>\n",
    "<li>Количество книг, вышедших после 1 января 2000 года - 819;\n",
    "<li>Количество обзоров для каждой книги 2-3б средняя оценка книг - 3.9;\n",
    "<li>Издательство, которое выпустило наибольшее число книг толще 50 страниц — Penguin Books;\n",
    "<li>Автор с самой высокой средней оценкой книг при условии 50 и более оценок - J.K. Rowling/Mary GrandPré;\n",
    "<li>Среднее количество обзоров от пользователей, которые поставили больше 50 оценок - 24."
   ]
  }
 ],
 "metadata": {
  "ExecuteTimeLog": [
   {
    "duration": 983,
    "start_time": "2021-11-20T15:56:58.333Z"
   },
   {
    "duration": 8,
    "start_time": "2021-11-20T15:57:14.549Z"
   },
   {
    "duration": 408,
    "start_time": "2021-11-20T15:59:04.688Z"
   },
   {
    "duration": 418,
    "start_time": "2021-11-20T16:00:05.517Z"
   },
   {
    "duration": 4,
    "start_time": "2021-11-20T16:00:57.000Z"
   },
   {
    "duration": 343,
    "start_time": "2021-11-20T16:01:01.199Z"
   },
   {
    "duration": 348,
    "start_time": "2021-11-20T16:01:49.362Z"
   },
   {
    "duration": 2,
    "start_time": "2021-11-20T16:01:55.256Z"
   },
   {
    "duration": 433,
    "start_time": "2021-11-20T16:01:56.119Z"
   },
   {
    "duration": 2,
    "start_time": "2021-11-20T16:02:21.067Z"
   },
   {
    "duration": 357,
    "start_time": "2021-11-20T16:02:22.942Z"
   },
   {
    "duration": 4,
    "start_time": "2021-11-20T16:02:44.424Z"
   },
   {
    "duration": 3,
    "start_time": "2021-11-20T16:02:45.655Z"
   },
   {
    "duration": 50,
    "start_time": "2021-11-20T16:02:46.699Z"
   },
   {
    "duration": 117,
    "start_time": "2021-11-20T16:03:35.371Z"
   },
   {
    "duration": 104,
    "start_time": "2021-11-20T16:03:52.814Z"
   },
   {
    "duration": 3,
    "start_time": "2021-11-20T16:04:00.023Z"
   },
   {
    "duration": 339,
    "start_time": "2021-11-20T16:04:03.158Z"
   },
   {
    "duration": 3,
    "start_time": "2021-11-20T16:05:16.380Z"
   },
   {
    "duration": 21,
    "start_time": "2021-11-20T16:05:19.910Z"
   },
   {
    "duration": 3,
    "start_time": "2021-11-20T16:06:17.114Z"
   },
   {
    "duration": 483,
    "start_time": "2021-11-20T16:06:17.732Z"
   },
   {
    "duration": 2,
    "start_time": "2021-11-20T16:07:14.851Z"
   },
   {
    "duration": 342,
    "start_time": "2021-11-20T16:07:21.996Z"
   },
   {
    "duration": 2,
    "start_time": "2021-11-20T16:07:31.715Z"
   },
   {
    "duration": 20,
    "start_time": "2021-11-20T16:07:33.694Z"
   },
   {
    "duration": 3,
    "start_time": "2021-11-20T16:07:45.116Z"
   },
   {
    "duration": 12,
    "start_time": "2021-11-20T16:07:46.733Z"
   },
   {
    "duration": 3,
    "start_time": "2021-11-20T16:08:45.300Z"
   },
   {
    "duration": 335,
    "start_time": "2021-11-20T16:08:46.350Z"
   },
   {
    "duration": 2,
    "start_time": "2021-11-20T16:09:01.893Z"
   },
   {
    "duration": 368,
    "start_time": "2021-11-20T16:09:03.591Z"
   },
   {
    "duration": 3,
    "start_time": "2021-11-20T16:11:34.261Z"
   },
   {
    "duration": 341,
    "start_time": "2021-11-20T16:11:35.024Z"
   },
   {
    "duration": 2,
    "start_time": "2021-11-20T16:12:15.215Z"
   },
   {
    "duration": 14,
    "start_time": "2021-11-20T16:12:25.830Z"
   },
   {
    "duration": 2,
    "start_time": "2021-11-20T16:12:42.536Z"
   },
   {
    "duration": 13,
    "start_time": "2021-11-20T16:12:44.689Z"
   },
   {
    "duration": 3,
    "start_time": "2021-11-20T16:12:59.591Z"
   },
   {
    "duration": 455,
    "start_time": "2021-11-20T16:13:00.740Z"
   },
   {
    "duration": 2,
    "start_time": "2021-11-20T16:13:08.359Z"
   },
   {
    "duration": 370,
    "start_time": "2021-11-20T16:13:08.961Z"
   },
   {
    "duration": 2,
    "start_time": "2021-11-20T16:14:00.568Z"
   },
   {
    "duration": 347,
    "start_time": "2021-11-20T16:14:01.360Z"
   },
   {
    "duration": 3,
    "start_time": "2021-11-20T16:14:10.071Z"
   },
   {
    "duration": 356,
    "start_time": "2021-11-20T16:14:10.722Z"
   },
   {
    "duration": 3,
    "start_time": "2021-11-20T16:20:30.578Z"
   },
   {
    "duration": 360,
    "start_time": "2021-11-20T16:20:31.800Z"
   },
   {
    "duration": 2,
    "start_time": "2021-11-20T16:22:07.899Z"
   },
   {
    "duration": 404,
    "start_time": "2021-11-20T16:22:08.739Z"
   },
   {
    "duration": 3,
    "start_time": "2021-11-20T16:22:25.098Z"
   },
   {
    "duration": 13,
    "start_time": "2021-11-20T16:22:25.103Z"
   },
   {
    "duration": 3,
    "start_time": "2021-11-20T16:23:40.316Z"
   },
   {
    "duration": 10,
    "start_time": "2021-11-20T16:23:44.586Z"
   },
   {
    "duration": 3,
    "start_time": "2021-11-20T16:24:25.299Z"
   },
   {
    "duration": 10,
    "start_time": "2021-11-20T16:24:28.512Z"
   },
   {
    "duration": 3,
    "start_time": "2021-11-20T16:25:05.610Z"
   },
   {
    "duration": 10,
    "start_time": "2021-11-20T16:25:06.359Z"
   },
   {
    "duration": 2,
    "start_time": "2021-11-20T16:25:52.098Z"
   },
   {
    "duration": 3,
    "start_time": "2021-11-20T16:25:54.175Z"
   },
   {
    "duration": 10,
    "start_time": "2021-11-20T16:25:54.778Z"
   },
   {
    "duration": 2,
    "start_time": "2021-11-20T16:26:09.591Z"
   },
   {
    "duration": 351,
    "start_time": "2021-11-20T16:26:10.327Z"
   },
   {
    "duration": 3,
    "start_time": "2021-11-20T16:26:31.739Z"
   },
   {
    "duration": 9,
    "start_time": "2021-11-20T16:26:32.403Z"
   },
   {
    "duration": 3,
    "start_time": "2021-11-20T16:26:43.261Z"
   },
   {
    "duration": 9,
    "start_time": "2021-11-20T16:26:46.496Z"
   },
   {
    "duration": 3,
    "start_time": "2021-11-20T16:28:08.140Z"
   },
   {
    "duration": 12,
    "start_time": "2021-11-20T16:28:10.103Z"
   },
   {
    "duration": 3,
    "start_time": "2021-11-20T16:30:28.265Z"
   },
   {
    "duration": 12,
    "start_time": "2021-11-20T16:30:28.659Z"
   },
   {
    "duration": 185,
    "start_time": "2021-11-20T16:31:03.627Z"
   },
   {
    "duration": 3,
    "start_time": "2021-11-20T16:31:19.323Z"
   },
   {
    "duration": 340,
    "start_time": "2021-11-20T16:31:27.603Z"
   },
   {
    "duration": 2,
    "start_time": "2021-11-20T16:32:49.724Z"
   },
   {
    "duration": 413,
    "start_time": "2021-11-20T16:32:50.481Z"
   },
   {
    "duration": 2,
    "start_time": "2021-11-20T16:33:28.781Z"
   },
   {
    "duration": 12,
    "start_time": "2021-11-20T16:33:29.332Z"
   },
   {
    "duration": 3,
    "start_time": "2021-11-20T16:37:19.269Z"
   },
   {
    "duration": 347,
    "start_time": "2021-11-20T16:37:20.234Z"
   },
   {
    "duration": 103,
    "start_time": "2021-11-20T16:37:47.766Z"
   },
   {
    "duration": 128,
    "start_time": "2021-11-20T16:41:16.066Z"
   },
   {
    "duration": 123,
    "start_time": "2021-11-20T16:41:31.014Z"
   },
   {
    "duration": 3,
    "start_time": "2021-11-20T16:41:59.419Z"
   },
   {
    "duration": 351,
    "start_time": "2021-11-20T16:42:00.573Z"
   },
   {
    "duration": 3,
    "start_time": "2021-11-20T16:42:27.050Z"
   },
   {
    "duration": 352,
    "start_time": "2021-11-20T16:42:27.900Z"
   },
   {
    "duration": 3,
    "start_time": "2021-11-20T16:43:17.067Z"
   },
   {
    "duration": 341,
    "start_time": "2021-11-20T16:43:17.966Z"
   },
   {
    "duration": 2,
    "start_time": "2021-11-20T16:43:34.915Z"
   },
   {
    "duration": 367,
    "start_time": "2021-11-20T16:43:35.861Z"
   },
   {
    "duration": 104,
    "start_time": "2021-11-20T16:43:54.129Z"
   },
   {
    "duration": 344,
    "start_time": "2021-11-20T16:43:54.845Z"
   },
   {
    "duration": 148,
    "start_time": "2021-11-20T16:44:43.972Z"
   },
   {
    "duration": 341,
    "start_time": "2021-11-20T16:44:44.827Z"
   },
   {
    "duration": 2,
    "start_time": "2021-11-20T16:45:21.062Z"
   },
   {
    "duration": 10,
    "start_time": "2021-11-20T16:45:21.918Z"
   },
   {
    "duration": 3,
    "start_time": "2021-11-20T16:45:30.132Z"
   },
   {
    "duration": 348,
    "start_time": "2021-11-20T16:45:30.990Z"
   },
   {
    "duration": 2,
    "start_time": "2021-11-20T16:46:33.264Z"
   },
   {
    "duration": 13,
    "start_time": "2021-11-20T16:46:43.589Z"
   },
   {
    "duration": 2,
    "start_time": "2021-11-20T16:48:19.350Z"
   },
   {
    "duration": 334,
    "start_time": "2021-11-20T16:48:19.952Z"
   },
   {
    "duration": 2,
    "start_time": "2021-11-20T16:48:52.007Z"
   },
   {
    "duration": 336,
    "start_time": "2021-11-20T16:48:53.114Z"
   },
   {
    "duration": 2,
    "start_time": "2021-11-20T16:49:37.074Z"
   },
   {
    "duration": 349,
    "start_time": "2021-11-20T16:49:38.137Z"
   },
   {
    "duration": 3,
    "start_time": "2021-11-20T16:50:26.456Z"
   },
   {
    "duration": 18,
    "start_time": "2021-11-20T16:50:27.050Z"
   },
   {
    "duration": 2,
    "start_time": "2021-11-20T16:51:57.321Z"
   },
   {
    "duration": 12,
    "start_time": "2021-11-20T16:51:57.893Z"
   },
   {
    "duration": 3,
    "start_time": "2021-11-20T16:52:02.754Z"
   },
   {
    "duration": 30,
    "start_time": "2021-11-20T16:52:03.408Z"
   },
   {
    "duration": 3,
    "start_time": "2021-11-20T16:52:41.480Z"
   },
   {
    "duration": 340,
    "start_time": "2021-11-20T16:52:42.561Z"
   },
   {
    "duration": 3,
    "start_time": "2021-11-20T16:52:53.481Z"
   },
   {
    "duration": 28,
    "start_time": "2021-11-20T16:52:55.196Z"
   },
   {
    "duration": 3,
    "start_time": "2021-11-20T16:55:15.621Z"
   },
   {
    "duration": 2,
    "start_time": "2021-11-20T16:55:29.731Z"
   },
   {
    "duration": 13,
    "start_time": "2021-11-20T16:55:30.490Z"
   },
   {
    "duration": 2,
    "start_time": "2021-11-20T16:55:43.964Z"
   },
   {
    "duration": 12,
    "start_time": "2021-11-20T16:55:44.443Z"
   },
   {
    "duration": 2,
    "start_time": "2021-11-20T16:55:59.203Z"
   },
   {
    "duration": 10,
    "start_time": "2021-11-20T16:55:59.627Z"
   },
   {
    "duration": 2,
    "start_time": "2021-11-20T16:56:11.444Z"
   },
   {
    "duration": 12,
    "start_time": "2021-11-20T16:56:11.947Z"
   },
   {
    "duration": 332,
    "start_time": "2021-11-20T16:56:22.154Z"
   },
   {
    "duration": 3,
    "start_time": "2021-11-20T16:56:26.083Z"
   },
   {
    "duration": 12,
    "start_time": "2021-11-20T16:56:26.483Z"
   },
   {
    "duration": 347,
    "start_time": "2021-11-20T16:56:50.804Z"
   },
   {
    "duration": 3,
    "start_time": "2021-11-20T16:56:54.196Z"
   },
   {
    "duration": 22,
    "start_time": "2021-11-20T16:56:54.684Z"
   },
   {
    "duration": 3,
    "start_time": "2021-11-20T16:58:12.901Z"
   },
   {
    "duration": 26,
    "start_time": "2021-11-20T16:58:14.749Z"
   },
   {
    "duration": 2,
    "start_time": "2021-11-20T16:59:04.918Z"
   },
   {
    "duration": 709,
    "start_time": "2021-11-20T16:59:05.725Z"
   },
   {
    "duration": 3,
    "start_time": "2021-11-20T16:59:20.685Z"
   },
   {
    "duration": 686,
    "start_time": "2021-11-20T16:59:21.296Z"
   },
   {
    "duration": 2,
    "start_time": "2021-11-20T16:59:48.518Z"
   },
   {
    "duration": 22,
    "start_time": "2021-11-20T16:59:49.602Z"
   },
   {
    "duration": 3,
    "start_time": "2021-11-20T17:01:30.806Z"
   },
   {
    "duration": 687,
    "start_time": "2021-11-20T17:01:31.440Z"
   },
   {
    "duration": 3,
    "start_time": "2021-11-20T17:02:23.680Z"
   },
   {
    "duration": 23,
    "start_time": "2021-11-20T17:02:25.180Z"
   },
   {
    "duration": 2,
    "start_time": "2021-11-20T17:03:11.482Z"
   },
   {
    "duration": 23,
    "start_time": "2021-11-20T17:03:14.100Z"
   },
   {
    "duration": 3,
    "start_time": "2021-11-20T17:09:31.820Z"
   },
   {
    "duration": 680,
    "start_time": "2021-11-20T17:09:43.660Z"
   },
   {
    "duration": 2,
    "start_time": "2021-11-20T17:10:25.200Z"
   },
   {
    "duration": 651,
    "start_time": "2021-11-20T17:10:26.655Z"
   },
   {
    "duration": 3,
    "start_time": "2021-11-20T17:11:01.149Z"
   },
   {
    "duration": 686,
    "start_time": "2021-11-20T17:11:01.856Z"
   },
   {
    "duration": 2,
    "start_time": "2021-11-20T17:11:15.814Z"
   },
   {
    "duration": 659,
    "start_time": "2021-11-20T17:11:16.251Z"
   },
   {
    "duration": 2,
    "start_time": "2021-11-20T17:15:00.039Z"
   },
   {
    "duration": 692,
    "start_time": "2021-11-20T17:15:00.810Z"
   },
   {
    "duration": 3,
    "start_time": "2021-11-20T17:15:18.575Z"
   },
   {
    "duration": 719,
    "start_time": "2021-11-20T17:15:19.130Z"
   },
   {
    "duration": 2,
    "start_time": "2021-11-20T17:17:01.066Z"
   },
   {
    "duration": 681,
    "start_time": "2021-11-20T17:17:01.851Z"
   },
   {
    "duration": 2,
    "start_time": "2021-11-20T17:17:15.398Z"
   },
   {
    "duration": 13,
    "start_time": "2021-11-20T17:17:18.230Z"
   },
   {
    "duration": 3,
    "start_time": "2021-11-20T17:18:00.706Z"
   },
   {
    "duration": 659,
    "start_time": "2021-11-20T17:18:01.023Z"
   },
   {
    "duration": 3,
    "start_time": "2021-11-20T17:18:30.426Z"
   },
   {
    "duration": 717,
    "start_time": "2021-11-20T17:18:31.050Z"
   },
   {
    "duration": 2,
    "start_time": "2021-11-20T17:18:52.080Z"
   },
   {
    "duration": 12,
    "start_time": "2021-11-20T17:18:52.631Z"
   },
   {
    "duration": 3,
    "start_time": "2021-11-20T17:19:13.888Z"
   },
   {
    "duration": 685,
    "start_time": "2021-11-20T17:19:16.210Z"
   },
   {
    "duration": 3,
    "start_time": "2021-11-20T17:20:21.793Z"
   },
   {
    "duration": 14,
    "start_time": "2021-11-20T17:20:22.677Z"
   },
   {
    "duration": 3,
    "start_time": "2021-11-20T17:20:31.601Z"
   },
   {
    "duration": 14,
    "start_time": "2021-11-20T17:20:33.611Z"
   },
   {
    "duration": 3,
    "start_time": "2021-11-20T17:21:05.308Z"
   },
   {
    "duration": 719,
    "start_time": "2021-11-20T17:21:05.779Z"
   },
   {
    "duration": 2,
    "start_time": "2021-11-20T17:21:36.527Z"
   },
   {
    "duration": 2,
    "start_time": "2021-11-20T17:21:38.363Z"
   },
   {
    "duration": 648,
    "start_time": "2021-11-20T17:21:38.822Z"
   },
   {
    "duration": 2,
    "start_time": "2021-11-20T17:23:53.056Z"
   },
   {
    "duration": 700,
    "start_time": "2021-11-20T17:23:54.034Z"
   },
   {
    "duration": 2,
    "start_time": "2021-11-20T17:24:25.405Z"
   },
   {
    "duration": 19,
    "start_time": "2021-11-20T17:24:26.604Z"
   },
   {
    "duration": 3,
    "start_time": "2021-11-20T17:24:34.736Z"
   },
   {
    "duration": 20,
    "start_time": "2021-11-20T17:24:36.523Z"
   },
   {
    "duration": 10,
    "start_time": "2021-11-20T17:26:47.646Z"
   },
   {
    "duration": 691,
    "start_time": "2021-11-20T17:27:19.215Z"
   },
   {
    "duration": 14,
    "start_time": "2021-11-20T17:27:26.130Z"
   },
   {
    "duration": 646,
    "start_time": "2021-11-20T17:27:42.298Z"
   },
   {
    "duration": 694,
    "start_time": "2021-11-20T17:28:02.387Z"
   },
   {
    "duration": 15,
    "start_time": "2021-11-20T17:28:37.211Z"
   },
   {
    "duration": 14,
    "start_time": "2021-11-20T17:29:28.924Z"
   },
   {
    "duration": 682,
    "start_time": "2021-11-20T17:29:54.993Z"
   },
   {
    "duration": 14,
    "start_time": "2021-11-20T17:31:41.354Z"
   },
   {
    "duration": 681,
    "start_time": "2021-11-20T17:32:22.964Z"
   },
   {
    "duration": 13,
    "start_time": "2021-11-20T17:32:27.798Z"
   },
   {
    "duration": 15,
    "start_time": "2021-11-20T17:32:56.804Z"
   },
   {
    "duration": 14,
    "start_time": "2021-11-20T17:33:22.867Z"
   },
   {
    "duration": 15,
    "start_time": "2021-11-20T17:34:03.747Z"
   },
   {
    "duration": 21,
    "start_time": "2021-11-20T17:35:07.204Z"
   },
   {
    "duration": 19,
    "start_time": "2021-11-20T17:36:11.465Z"
   },
   {
    "duration": 740,
    "start_time": "2021-11-20T17:36:40.212Z"
   },
   {
    "duration": 12,
    "start_time": "2021-11-20T17:38:28.846Z"
   },
   {
    "duration": 13,
    "start_time": "2021-11-20T17:38:46.357Z"
   },
   {
    "duration": 12,
    "start_time": "2021-11-20T17:39:05.246Z"
   },
   {
    "duration": 15,
    "start_time": "2021-11-20T17:40:01.129Z"
   },
   {
    "duration": 11,
    "start_time": "2021-11-20T17:40:22.593Z"
   },
   {
    "duration": 334,
    "start_time": "2021-11-20T17:45:41.703Z"
   },
   {
    "duration": 73,
    "start_time": "2021-11-20T17:46:02.389Z"
   },
   {
    "duration": 21,
    "start_time": "2021-11-20T17:46:27.498Z"
   },
   {
    "duration": 11,
    "start_time": "2021-11-20T17:51:01.770Z"
   },
   {
    "duration": 12,
    "start_time": "2021-11-20T17:51:08.595Z"
   },
   {
    "duration": 353,
    "start_time": "2021-11-20T18:20:23.933Z"
   },
   {
    "duration": 682,
    "start_time": "2021-11-20T18:20:38.984Z"
   },
   {
    "duration": 14,
    "start_time": "2021-11-20T18:21:22.095Z"
   },
   {
    "duration": 4231,
    "start_time": "2021-11-20T18:22:43.920Z"
   },
   {
    "duration": 655,
    "start_time": "2021-11-20T18:23:43.264Z"
   },
   {
    "duration": 820,
    "start_time": "2021-11-20T18:24:28.020Z"
   },
   {
    "duration": 708,
    "start_time": "2021-11-20T18:24:44.318Z"
   },
   {
    "duration": 15,
    "start_time": "2021-11-20T18:25:41.687Z"
   },
   {
    "duration": 20,
    "start_time": "2021-11-20T18:26:47.925Z"
   },
   {
    "duration": 788,
    "start_time": "2021-11-20T18:28:28.241Z"
   },
   {
    "duration": 22,
    "start_time": "2021-11-20T18:28:40.250Z"
   },
   {
    "duration": 16,
    "start_time": "2021-11-20T18:29:21.663Z"
   },
   {
    "duration": 712,
    "start_time": "2021-11-20T18:29:56.518Z"
   },
   {
    "duration": 660,
    "start_time": "2021-11-20T18:30:38.492Z"
   },
   {
    "duration": 664,
    "start_time": "2021-11-20T18:31:20.876Z"
   },
   {
    "duration": 13,
    "start_time": "2021-11-20T18:31:41.380Z"
   },
   {
    "duration": 755,
    "start_time": "2021-11-20T18:32:33.880Z"
   },
   {
    "duration": 15,
    "start_time": "2021-11-20T18:33:03.223Z"
   },
   {
    "duration": 15,
    "start_time": "2021-11-20T18:33:22.235Z"
   },
   {
    "duration": 15,
    "start_time": "2021-11-20T18:38:10.629Z"
   },
   {
    "duration": 12,
    "start_time": "2021-11-20T18:39:27.894Z"
   },
   {
    "duration": 787,
    "start_time": "2021-11-20T18:39:30.656Z"
   },
   {
    "duration": 12,
    "start_time": "2021-11-20T18:39:35.469Z"
   },
   {
    "duration": 670,
    "start_time": "2021-11-20T18:41:56.047Z"
   },
   {
    "duration": 668,
    "start_time": "2021-11-20T18:43:57.345Z"
   },
   {
    "duration": 647,
    "start_time": "2021-11-20T18:44:37.209Z"
   },
   {
    "duration": 644,
    "start_time": "2021-11-20T18:44:58.750Z"
   },
   {
    "duration": 789,
    "start_time": "2021-11-20T18:45:31.854Z"
   },
   {
    "duration": 18,
    "start_time": "2021-11-20T18:45:55.291Z"
   },
   {
    "duration": 21,
    "start_time": "2021-11-20T18:46:10.697Z"
   },
   {
    "duration": 11,
    "start_time": "2021-11-20T18:46:58.667Z"
   },
   {
    "duration": 10,
    "start_time": "2021-11-20T18:48:17.173Z"
   },
   {
    "duration": 11,
    "start_time": "2021-11-20T18:48:56.828Z"
   },
   {
    "duration": 671,
    "start_time": "2021-11-20T18:53:59.187Z"
   },
   {
    "duration": 19,
    "start_time": "2021-11-20T18:54:47.553Z"
   },
   {
    "duration": 20,
    "start_time": "2021-11-20T18:55:13.728Z"
   },
   {
    "duration": 17,
    "start_time": "2021-11-20T18:56:32.642Z"
   },
   {
    "duration": 10,
    "start_time": "2021-11-20T19:00:33.049Z"
   },
   {
    "duration": 10,
    "start_time": "2021-11-20T19:01:18.911Z"
   },
   {
    "duration": 10,
    "start_time": "2021-11-20T19:01:33.935Z"
   },
   {
    "duration": 11,
    "start_time": "2021-11-20T19:06:15.728Z"
   },
   {
    "duration": 3,
    "start_time": "2021-11-20T19:12:15.475Z"
   },
   {
    "duration": 13,
    "start_time": "2021-11-20T19:12:44.540Z"
   },
   {
    "duration": 12,
    "start_time": "2021-11-20T19:14:48.610Z"
   },
   {
    "duration": 11,
    "start_time": "2021-11-20T19:15:16.517Z"
   },
   {
    "duration": 10,
    "start_time": "2021-11-20T19:18:53.358Z"
   },
   {
    "duration": 10,
    "start_time": "2021-11-20T19:18:56.505Z"
   },
   {
    "duration": 13,
    "start_time": "2021-11-20T19:33:44.521Z"
   },
   {
    "duration": 6,
    "start_time": "2021-11-20T19:47:03.987Z"
   },
   {
    "duration": 6,
    "start_time": "2021-11-20T19:47:03.996Z"
   },
   {
    "duration": 56,
    "start_time": "2021-11-20T19:47:04.004Z"
   },
   {
    "duration": 15,
    "start_time": "2021-11-20T19:47:04.062Z"
   },
   {
    "duration": 14,
    "start_time": "2021-11-20T19:47:04.080Z"
   },
   {
    "duration": 15,
    "start_time": "2021-11-20T19:47:04.097Z"
   },
   {
    "duration": 24,
    "start_time": "2021-11-20T19:47:04.114Z"
   },
   {
    "duration": 32,
    "start_time": "2021-11-20T19:47:04.140Z"
   },
   {
    "duration": 4,
    "start_time": "2021-11-20T19:47:04.174Z"
   },
   {
    "duration": 57,
    "start_time": "2021-11-20T19:47:04.180Z"
   },
   {
    "duration": 15,
    "start_time": "2021-11-20T19:47:04.239Z"
   },
   {
    "duration": 20,
    "start_time": "2021-11-20T19:47:04.258Z"
   },
   {
    "duration": 16,
    "start_time": "2021-11-20T19:47:04.281Z"
   },
   {
    "duration": 42,
    "start_time": "2021-11-20T19:47:04.299Z"
   },
   {
    "duration": 39,
    "start_time": "2021-11-20T19:47:04.343Z"
   },
   {
    "duration": 18,
    "start_time": "2021-11-20T20:09:07.367Z"
   },
   {
    "duration": 14,
    "start_time": "2021-11-20T20:11:25.747Z"
   },
   {
    "duration": 23,
    "start_time": "2021-11-20T20:28:34.702Z"
   },
   {
    "duration": 4,
    "start_time": "2021-11-20T20:28:37.974Z"
   },
   {
    "duration": 32,
    "start_time": "2021-11-20T20:29:29.555Z"
   },
   {
    "duration": 20,
    "start_time": "2021-11-20T20:29:37.635Z"
   },
   {
    "duration": 436,
    "start_time": "2021-11-20T20:29:47.209Z"
   },
   {
    "duration": 22,
    "start_time": "2021-11-20T20:29:57.161Z"
   },
   {
    "duration": 36,
    "start_time": "2021-11-20T20:30:04.249Z"
   },
   {
    "duration": 23,
    "start_time": "2021-11-20T20:30:20.768Z"
   },
   {
    "duration": 835,
    "start_time": "2021-11-21T03:29:30.808Z"
   },
   {
    "duration": 4,
    "start_time": "2021-11-21T03:29:31.645Z"
   },
   {
    "duration": 56,
    "start_time": "2021-11-21T03:29:31.659Z"
   },
   {
    "duration": 16,
    "start_time": "2021-11-21T03:29:31.718Z"
   },
   {
    "duration": 15,
    "start_time": "2021-11-21T03:29:31.736Z"
   },
   {
    "duration": 15,
    "start_time": "2021-11-21T03:29:31.754Z"
   },
   {
    "duration": 13,
    "start_time": "2021-11-21T03:29:31.771Z"
   },
   {
    "duration": 12,
    "start_time": "2021-11-21T03:29:31.787Z"
   },
   {
    "duration": 3,
    "start_time": "2021-11-21T03:29:31.803Z"
   },
   {
    "duration": 29,
    "start_time": "2021-11-21T03:29:31.809Z"
   },
   {
    "duration": 43,
    "start_time": "2021-11-21T03:29:31.840Z"
   },
   {
    "duration": 15,
    "start_time": "2021-11-21T03:29:31.886Z"
   },
   {
    "duration": 16,
    "start_time": "2021-11-21T03:29:31.904Z"
   },
   {
    "duration": 37,
    "start_time": "2021-11-21T03:29:31.923Z"
   },
   {
    "duration": 22,
    "start_time": "2021-11-21T03:29:31.963Z"
   },
   {
    "duration": 20,
    "start_time": "2021-11-21T03:29:31.987Z"
   },
   {
    "duration": 23,
    "start_time": "2021-11-21T03:31:59.325Z"
   },
   {
    "duration": 706,
    "start_time": "2021-11-21T03:35:00.475Z"
   },
   {
    "duration": 93,
    "start_time": "2021-11-21T03:35:08.092Z"
   },
   {
    "duration": 19,
    "start_time": "2021-11-21T03:35:10.979Z"
   },
   {
    "duration": 19,
    "start_time": "2021-11-21T03:35:17.795Z"
   },
   {
    "duration": 301,
    "start_time": "2021-11-21T03:35:29.730Z"
   },
   {
    "duration": 19,
    "start_time": "2021-11-21T03:35:33.050Z"
   },
   {
    "duration": 31,
    "start_time": "2021-11-21T03:36:03.473Z"
   },
   {
    "duration": 30,
    "start_time": "2021-11-21T03:36:39.336Z"
   },
   {
    "duration": 789,
    "start_time": "2021-11-21T03:45:41.054Z"
   },
   {
    "duration": 669,
    "start_time": "2021-11-21T03:45:48.863Z"
   },
   {
    "duration": 587,
    "start_time": "2021-11-21T03:45:56.941Z"
   },
   {
    "duration": 34,
    "start_time": "2021-11-21T03:46:12.380Z"
   },
   {
    "duration": 49,
    "start_time": "2021-11-21T03:46:28.315Z"
   },
   {
    "duration": 31,
    "start_time": "2021-11-21T03:46:57.817Z"
   },
   {
    "duration": 34,
    "start_time": "2021-11-21T03:47:02.593Z"
   },
   {
    "duration": 929,
    "start_time": "2021-11-21T03:51:07.120Z"
   },
   {
    "duration": 4,
    "start_time": "2021-11-21T03:51:08.052Z"
   },
   {
    "duration": 48,
    "start_time": "2021-11-21T03:51:08.059Z"
   },
   {
    "duration": 15,
    "start_time": "2021-11-21T03:51:08.111Z"
   },
   {
    "duration": 31,
    "start_time": "2021-11-21T03:51:08.129Z"
   },
   {
    "duration": 14,
    "start_time": "2021-11-21T03:51:08.163Z"
   },
   {
    "duration": 13,
    "start_time": "2021-11-21T03:51:08.180Z"
   },
   {
    "duration": 11,
    "start_time": "2021-11-21T03:51:08.196Z"
   },
   {
    "duration": 4,
    "start_time": "2021-11-21T03:51:08.210Z"
   },
   {
    "duration": 50,
    "start_time": "2021-11-21T03:51:08.216Z"
   },
   {
    "duration": 29,
    "start_time": "2021-11-21T03:51:08.268Z"
   },
   {
    "duration": 14,
    "start_time": "2021-11-21T03:51:08.299Z"
   },
   {
    "duration": 15,
    "start_time": "2021-11-21T03:51:08.315Z"
   },
   {
    "duration": 38,
    "start_time": "2021-11-21T03:51:08.333Z"
   },
   {
    "duration": 22,
    "start_time": "2021-11-21T03:51:08.373Z"
   },
   {
    "duration": 20,
    "start_time": "2021-11-21T03:51:08.397Z"
   },
   {
    "duration": 853,
    "start_time": "2021-11-21T06:52:54.281Z"
   },
   {
    "duration": 4,
    "start_time": "2021-11-21T06:52:55.136Z"
   },
   {
    "duration": 226,
    "start_time": "2021-11-21T06:52:55.142Z"
   },
   {
    "duration": 57,
    "start_time": "2021-11-21T06:52:55.371Z"
   },
   {
    "duration": 57,
    "start_time": "2021-11-21T06:52:55.431Z"
   },
   {
    "duration": 56,
    "start_time": "2021-11-21T06:52:55.491Z"
   },
   {
    "duration": 56,
    "start_time": "2021-11-21T06:52:55.550Z"
   },
   {
    "duration": 54,
    "start_time": "2021-11-21T06:52:55.611Z"
   },
   {
    "duration": 3,
    "start_time": "2021-11-21T06:52:55.668Z"
   },
   {
    "duration": 85,
    "start_time": "2021-11-21T06:52:55.673Z"
   },
   {
    "duration": 114,
    "start_time": "2021-11-21T06:52:55.760Z"
   },
   {
    "duration": 55,
    "start_time": "2021-11-21T06:52:55.877Z"
   },
   {
    "duration": 58,
    "start_time": "2021-11-21T06:52:55.934Z"
   },
   {
    "duration": 54,
    "start_time": "2021-11-21T06:52:55.995Z"
   },
   {
    "duration": 63,
    "start_time": "2021-11-21T06:52:56.051Z"
   },
   {
    "duration": 61,
    "start_time": "2021-11-21T06:52:56.117Z"
   },
   {
    "duration": 723,
    "start_time": "2021-11-21T06:57:22.999Z"
   },
   {
    "duration": 65,
    "start_time": "2021-11-21T06:58:05.691Z"
   },
   {
    "duration": 54,
    "start_time": "2021-11-21T06:59:04.486Z"
   },
   {
    "duration": 58,
    "start_time": "2021-11-21T07:04:10.073Z"
   },
   {
    "duration": 6,
    "start_time": "2021-11-21T07:11:46.453Z"
   },
   {
    "duration": 34,
    "start_time": "2021-11-21T07:11:46.461Z"
   },
   {
    "duration": 212,
    "start_time": "2021-11-21T07:11:46.497Z"
   },
   {
    "duration": 58,
    "start_time": "2021-11-21T07:11:46.712Z"
   },
   {
    "duration": 58,
    "start_time": "2021-11-21T07:11:46.773Z"
   },
   {
    "duration": 57,
    "start_time": "2021-11-21T07:11:46.834Z"
   },
   {
    "duration": 56,
    "start_time": "2021-11-21T07:11:46.893Z"
   },
   {
    "duration": 56,
    "start_time": "2021-11-21T07:11:46.953Z"
   },
   {
    "duration": 59,
    "start_time": "2021-11-21T07:11:47.011Z"
   },
   {
    "duration": 66,
    "start_time": "2021-11-21T07:11:47.072Z"
   },
   {
    "duration": 635,
    "start_time": "2021-11-21T07:11:47.140Z"
   },
   {
    "duration": 12401,
    "start_time": "2021-11-21T07:11:35.376Z"
   },
   {
    "duration": 12397,
    "start_time": "2021-11-21T07:11:35.382Z"
   },
   {
    "duration": 12391,
    "start_time": "2021-11-21T07:11:35.389Z"
   },
   {
    "duration": 12381,
    "start_time": "2021-11-21T07:11:35.400Z"
   },
   {
    "duration": 12378,
    "start_time": "2021-11-21T07:11:35.405Z"
   },
   {
    "duration": 12373,
    "start_time": "2021-11-21T07:11:35.411Z"
   },
   {
    "duration": 114,
    "start_time": "2021-11-21T07:13:26.241Z"
   },
   {
    "duration": 67,
    "start_time": "2021-11-21T07:15:01.907Z"
   },
   {
    "duration": 67,
    "start_time": "2021-11-21T07:15:04.331Z"
   },
   {
    "duration": 628,
    "start_time": "2021-11-21T07:16:42.527Z"
   },
   {
    "duration": 680,
    "start_time": "2021-11-21T07:17:39.840Z"
   },
   {
    "duration": 604,
    "start_time": "2021-11-21T07:18:58.180Z"
   },
   {
    "duration": 636,
    "start_time": "2021-11-21T07:20:23.273Z"
   },
   {
    "duration": 610,
    "start_time": "2021-11-21T07:20:46.153Z"
   },
   {
    "duration": 652,
    "start_time": "2021-11-21T07:21:09.318Z"
   },
   {
    "duration": 633,
    "start_time": "2021-11-21T07:21:34.173Z"
   },
   {
    "duration": 641,
    "start_time": "2021-11-21T07:23:10.603Z"
   },
   {
    "duration": 66,
    "start_time": "2021-11-21T07:24:26.788Z"
   },
   {
    "duration": 650,
    "start_time": "2021-11-21T07:25:24.917Z"
   },
   {
    "duration": 644,
    "start_time": "2021-11-21T07:25:37.218Z"
   },
   {
    "duration": 612,
    "start_time": "2021-11-21T07:26:15.249Z"
   },
   {
    "duration": 792,
    "start_time": "2021-11-21T07:26:40.257Z"
   },
   {
    "duration": 90,
    "start_time": "2021-11-21T07:26:54.464Z"
   },
   {
    "duration": 621,
    "start_time": "2021-11-21T07:28:25.275Z"
   },
   {
    "duration": 68,
    "start_time": "2021-11-21T07:28:35.692Z"
   },
   {
    "duration": 627,
    "start_time": "2021-11-21T07:28:47.250Z"
   },
   {
    "duration": 73,
    "start_time": "2021-11-21T07:28:58.529Z"
   },
   {
    "duration": 71,
    "start_time": "2021-11-21T07:29:48.920Z"
   },
   {
    "duration": 636,
    "start_time": "2021-11-21T07:30:35.814Z"
   },
   {
    "duration": 667,
    "start_time": "2021-11-21T07:30:40.678Z"
   },
   {
    "duration": 69,
    "start_time": "2021-11-21T07:30:52.686Z"
   },
   {
    "duration": 72,
    "start_time": "2021-11-21T07:31:32.035Z"
   },
   {
    "duration": 88,
    "start_time": "2021-11-21T07:32:02.945Z"
   },
   {
    "duration": 86,
    "start_time": "2021-11-21T07:32:08.438Z"
   },
   {
    "duration": 88,
    "start_time": "2021-11-21T07:32:24.813Z"
   },
   {
    "duration": 87,
    "start_time": "2021-11-21T07:32:36.617Z"
   },
   {
    "duration": 652,
    "start_time": "2021-11-21T07:33:11.406Z"
   },
   {
    "duration": 741,
    "start_time": "2021-11-21T07:33:23.810Z"
   },
   {
    "duration": 85,
    "start_time": "2021-11-21T07:33:51.710Z"
   },
   {
    "duration": 84,
    "start_time": "2021-11-21T07:34:11.789Z"
   },
   {
    "duration": 86,
    "start_time": "2021-11-21T07:34:41.144Z"
   },
   {
    "duration": 1045,
    "start_time": "2021-11-21T07:35:11.254Z"
   },
   {
    "duration": 88,
    "start_time": "2021-11-21T07:35:34.220Z"
   },
   {
    "duration": 282,
    "start_time": "2021-11-21T07:35:40.714Z"
   },
   {
    "duration": 107,
    "start_time": "2021-11-21T07:35:57.847Z"
   },
   {
    "duration": 60,
    "start_time": "2021-11-21T07:36:02.767Z"
   },
   {
    "duration": 99,
    "start_time": "2021-11-21T07:36:09.780Z"
   },
   {
    "duration": 59,
    "start_time": "2021-11-21T07:36:15.399Z"
   },
   {
    "duration": 77,
    "start_time": "2021-11-21T07:37:22.445Z"
   },
   {
    "duration": 76,
    "start_time": "2021-11-21T07:40:32.190Z"
   },
   {
    "duration": 113,
    "start_time": "2021-11-21T07:41:41.297Z"
   },
   {
    "duration": 62,
    "start_time": "2021-11-21T07:41:53.384Z"
   },
   {
    "duration": 618,
    "start_time": "2021-11-21T07:42:55.280Z"
   },
   {
    "duration": 789,
    "start_time": "2021-11-21T07:43:20.119Z"
   },
   {
    "duration": 646,
    "start_time": "2021-11-21T07:43:44.685Z"
   },
   {
    "duration": 100,
    "start_time": "2021-11-21T07:44:37.266Z"
   },
   {
    "duration": 64,
    "start_time": "2021-11-21T07:44:50.994Z"
   },
   {
    "duration": 672,
    "start_time": "2021-11-21T07:45:53.559Z"
   },
   {
    "duration": 648,
    "start_time": "2021-11-21T07:46:16.272Z"
   },
   {
    "duration": 639,
    "start_time": "2021-11-21T07:46:40.014Z"
   },
   {
    "duration": 627,
    "start_time": "2021-11-21T07:46:47.669Z"
   },
   {
    "duration": 640,
    "start_time": "2021-11-21T07:47:07.477Z"
   },
   {
    "duration": 655,
    "start_time": "2021-11-21T07:48:30.394Z"
   },
   {
    "duration": 634,
    "start_time": "2021-11-21T07:50:22.272Z"
   },
   {
    "duration": 244,
    "start_time": "2021-11-21T07:51:44.658Z"
   },
   {
    "duration": 643,
    "start_time": "2021-11-21T07:52:31.768Z"
   },
   {
    "duration": 61,
    "start_time": "2021-11-21T07:52:50.503Z"
   },
   {
    "duration": 621,
    "start_time": "2021-11-21T07:53:20.548Z"
   },
   {
    "duration": 61,
    "start_time": "2021-11-21T07:54:49.594Z"
   },
   {
    "duration": 736,
    "start_time": "2021-11-21T07:55:48.702Z"
   },
   {
    "duration": 621,
    "start_time": "2021-11-21T07:56:01.358Z"
   },
   {
    "duration": 593,
    "start_time": "2021-11-21T07:56:09.405Z"
   },
   {
    "duration": 1130,
    "start_time": "2021-11-21T07:56:24.773Z"
   },
   {
    "duration": 658,
    "start_time": "2021-11-21T07:56:37.063Z"
   },
   {
    "duration": 637,
    "start_time": "2021-11-21T07:56:52.493Z"
   },
   {
    "duration": 651,
    "start_time": "2021-11-21T07:57:35.484Z"
   },
   {
    "duration": 624,
    "start_time": "2021-11-21T07:58:12.867Z"
   },
   {
    "duration": 579,
    "start_time": "2021-11-21T08:00:42.347Z"
   },
   {
    "duration": 624,
    "start_time": "2021-11-21T08:01:07.354Z"
   },
   {
    "duration": 628,
    "start_time": "2021-11-21T08:01:27.345Z"
   },
   {
    "duration": 761,
    "start_time": "2021-11-21T08:01:37.161Z"
   },
   {
    "duration": 614,
    "start_time": "2021-11-21T08:01:51.673Z"
   },
   {
    "duration": 630,
    "start_time": "2021-11-21T08:02:02.681Z"
   },
   {
    "duration": 64,
    "start_time": "2021-11-21T08:02:42.462Z"
   },
   {
    "duration": 642,
    "start_time": "2021-11-21T08:03:20.099Z"
   },
   {
    "duration": 246,
    "start_time": "2021-11-21T08:03:25.492Z"
   },
   {
    "duration": 717,
    "start_time": "2021-11-21T08:05:17.681Z"
   },
   {
    "duration": 651,
    "start_time": "2021-11-21T08:06:03.813Z"
   },
   {
    "duration": 643,
    "start_time": "2021-11-21T08:06:14.466Z"
   },
   {
    "duration": 638,
    "start_time": "2021-11-21T08:06:26.428Z"
   },
   {
    "duration": 624,
    "start_time": "2021-11-21T08:06:41.529Z"
   },
   {
    "duration": 667,
    "start_time": "2021-11-21T08:06:46.440Z"
   },
   {
    "duration": 646,
    "start_time": "2021-11-21T08:07:02.804Z"
   },
   {
    "duration": 799,
    "start_time": "2021-11-21T08:07:30.354Z"
   },
   {
    "duration": 1034,
    "start_time": "2021-11-21T08:07:56.769Z"
   },
   {
    "duration": 65,
    "start_time": "2021-11-21T08:09:22.971Z"
   },
   {
    "duration": 84,
    "start_time": "2021-11-21T08:09:38.409Z"
   },
   {
    "duration": 56,
    "start_time": "2021-11-21T08:10:41.118Z"
   },
   {
    "duration": 56,
    "start_time": "2021-11-21T08:10:56.621Z"
   },
   {
    "duration": 1022,
    "start_time": "2021-11-21T08:12:46.715Z"
   },
   {
    "duration": 77,
    "start_time": "2021-11-21T08:12:56.369Z"
   },
   {
    "duration": 58,
    "start_time": "2021-11-21T08:13:43.542Z"
   },
   {
    "duration": 609,
    "start_time": "2021-11-21T08:14:37.895Z"
   },
   {
    "duration": 58,
    "start_time": "2021-11-21T08:14:52.159Z"
   },
   {
    "duration": 68,
    "start_time": "2021-11-21T08:15:13.436Z"
   },
   {
    "duration": 79,
    "start_time": "2021-11-21T08:15:36.985Z"
   },
   {
    "duration": 65,
    "start_time": "2021-11-21T08:15:41.433Z"
   },
   {
    "duration": 659,
    "start_time": "2021-11-21T08:16:10.778Z"
   },
   {
    "duration": 69,
    "start_time": "2021-11-21T08:16:32.436Z"
   },
   {
    "duration": 79,
    "start_time": "2021-11-21T08:16:37.578Z"
   },
   {
    "duration": 65,
    "start_time": "2021-11-21T08:16:43.233Z"
   },
   {
    "duration": 64,
    "start_time": "2021-11-21T08:16:56.081Z"
   },
   {
    "duration": 65,
    "start_time": "2021-11-21T08:17:13.632Z"
   },
   {
    "duration": 66,
    "start_time": "2021-11-21T08:17:23.272Z"
   },
   {
    "duration": 67,
    "start_time": "2021-11-21T08:18:43.228Z"
   },
   {
    "duration": 61,
    "start_time": "2021-11-21T08:20:49.294Z"
   },
   {
    "duration": 61,
    "start_time": "2021-11-21T08:21:02.039Z"
   },
   {
    "duration": 115,
    "start_time": "2021-11-21T08:23:16.970Z"
   },
   {
    "duration": 57,
    "start_time": "2021-11-21T08:24:38.245Z"
   },
   {
    "duration": 690,
    "start_time": "2021-11-21T08:25:27.663Z"
   },
   {
    "duration": 57,
    "start_time": "2021-11-21T08:25:53.180Z"
   },
   {
    "duration": 629,
    "start_time": "2021-11-21T08:27:12.024Z"
   },
   {
    "duration": 663,
    "start_time": "2021-11-21T08:27:31.717Z"
   },
   {
    "duration": 57,
    "start_time": "2021-11-21T08:27:47.628Z"
   },
   {
    "duration": 648,
    "start_time": "2021-11-21T08:28:54.467Z"
   },
   {
    "duration": 56,
    "start_time": "2021-11-21T08:28:59.761Z"
   },
   {
    "duration": 119,
    "start_time": "2021-11-21T08:29:52.699Z"
   },
   {
    "duration": 620,
    "start_time": "2021-11-21T08:31:03.374Z"
   },
   {
    "duration": 64,
    "start_time": "2021-11-21T08:31:08.392Z"
   },
   {
    "duration": 624,
    "start_time": "2021-11-21T08:31:27.037Z"
   },
   {
    "duration": 61,
    "start_time": "2021-11-21T08:31:50.005Z"
   },
   {
    "duration": 805,
    "start_time": "2021-11-21T08:34:22.335Z"
   },
   {
    "duration": 717,
    "start_time": "2021-11-21T08:34:38.737Z"
   },
   {
    "duration": 58,
    "start_time": "2021-11-21T08:38:26.988Z"
   },
   {
    "duration": 59,
    "start_time": "2021-11-21T08:38:58.108Z"
   },
   {
    "duration": 634,
    "start_time": "2021-11-21T08:40:49.450Z"
   },
   {
    "duration": 714,
    "start_time": "2021-11-21T08:42:52.383Z"
   },
   {
    "duration": 622,
    "start_time": "2021-11-21T08:43:15.859Z"
   },
   {
    "duration": 643,
    "start_time": "2021-11-21T08:43:36.589Z"
   },
   {
    "duration": 643,
    "start_time": "2021-11-21T08:43:50.021Z"
   },
   {
    "duration": 652,
    "start_time": "2021-11-21T08:44:14.733Z"
   },
   {
    "duration": 604,
    "start_time": "2021-11-21T08:44:27.018Z"
   },
   {
    "duration": 613,
    "start_time": "2021-11-21T08:44:36.412Z"
   },
   {
    "duration": 620,
    "start_time": "2021-11-21T08:44:43.051Z"
   },
   {
    "duration": 804,
    "start_time": "2021-11-21T08:45:03.650Z"
   },
   {
    "duration": 60,
    "start_time": "2021-11-21T08:45:18.777Z"
   },
   {
    "duration": 630,
    "start_time": "2021-11-21T08:45:30.557Z"
   },
   {
    "duration": 924,
    "start_time": "2021-11-21T08:45:36.928Z"
   },
   {
    "duration": 71,
    "start_time": "2021-11-21T08:45:50.357Z"
   },
   {
    "duration": 69,
    "start_time": "2021-11-21T08:46:10.766Z"
   },
   {
    "duration": 72,
    "start_time": "2021-11-21T08:46:19.333Z"
   },
   {
    "duration": 699,
    "start_time": "2021-11-21T08:47:00.582Z"
   },
   {
    "duration": 79,
    "start_time": "2021-11-21T08:47:05.477Z"
   },
   {
    "duration": 59,
    "start_time": "2021-11-21T08:47:20.690Z"
   },
   {
    "duration": 58,
    "start_time": "2021-11-21T08:48:07.403Z"
   },
   {
    "duration": 58,
    "start_time": "2021-11-21T08:48:24.274Z"
   },
   {
    "duration": 596,
    "start_time": "2021-11-21T08:49:44.192Z"
   },
   {
    "duration": 649,
    "start_time": "2021-11-21T08:49:49.845Z"
   },
   {
    "duration": 686,
    "start_time": "2021-11-21T08:50:17.892Z"
   },
   {
    "duration": 61,
    "start_time": "2021-11-21T08:50:29.655Z"
   },
   {
    "duration": 58,
    "start_time": "2021-11-21T08:50:40.126Z"
   },
   {
    "duration": 58,
    "start_time": "2021-11-21T08:51:07.941Z"
   },
   {
    "duration": 60,
    "start_time": "2021-11-21T08:51:41.808Z"
   },
   {
    "duration": 63,
    "start_time": "2021-11-21T08:52:24.229Z"
   },
   {
    "duration": 61,
    "start_time": "2021-11-21T08:53:37.629Z"
   },
   {
    "duration": 63,
    "start_time": "2021-11-21T08:53:51.788Z"
   },
   {
    "duration": 61,
    "start_time": "2021-11-21T08:53:58.268Z"
   },
   {
    "duration": 603,
    "start_time": "2021-11-21T08:54:14.043Z"
   },
   {
    "duration": 63,
    "start_time": "2021-11-21T08:54:55.012Z"
   },
   {
    "duration": 62,
    "start_time": "2021-11-21T08:55:21.434Z"
   },
   {
    "duration": 65,
    "start_time": "2021-11-21T08:55:31.136Z"
   },
   {
    "duration": 63,
    "start_time": "2021-11-21T08:55:35.560Z"
   },
   {
    "duration": 799,
    "start_time": "2021-11-21T08:55:58.965Z"
   },
   {
    "duration": 64,
    "start_time": "2021-11-21T08:56:06.800Z"
   },
   {
    "duration": 643,
    "start_time": "2021-11-21T08:59:25.119Z"
   },
   {
    "duration": 808,
    "start_time": "2021-11-21T08:59:42.151Z"
   },
   {
    "duration": 642,
    "start_time": "2021-11-21T09:00:12.254Z"
   },
   {
    "duration": 676,
    "start_time": "2021-11-21T09:00:35.669Z"
   },
   {
    "duration": 741,
    "start_time": "2021-11-21T09:01:46.378Z"
   },
   {
    "duration": 681,
    "start_time": "2021-11-21T09:02:11.816Z"
   },
   {
    "duration": 603,
    "start_time": "2021-11-21T09:03:07.159Z"
   },
   {
    "duration": 622,
    "start_time": "2021-11-21T09:03:28.038Z"
   },
   {
    "duration": 646,
    "start_time": "2021-11-21T09:03:58.718Z"
   },
   {
    "duration": 652,
    "start_time": "2021-11-21T09:04:13.497Z"
   },
   {
    "duration": 62,
    "start_time": "2021-11-21T09:04:37.747Z"
   },
   {
    "duration": 61,
    "start_time": "2021-11-21T09:05:09.849Z"
   },
   {
    "duration": 777,
    "start_time": "2021-11-21T09:08:21.352Z"
   },
   {
    "duration": 644,
    "start_time": "2021-11-21T09:08:31.432Z"
   },
   {
    "duration": 625,
    "start_time": "2021-11-21T09:08:45.070Z"
   },
   {
    "duration": 796,
    "start_time": "2021-11-21T09:09:50.620Z"
   },
   {
    "duration": 612,
    "start_time": "2021-11-21T09:10:05.926Z"
   },
   {
    "duration": 621,
    "start_time": "2021-11-21T09:10:19.690Z"
   },
   {
    "duration": 59,
    "start_time": "2021-11-21T09:10:27.626Z"
   },
   {
    "duration": 650,
    "start_time": "2021-11-21T09:11:34.448Z"
   },
   {
    "duration": 725,
    "start_time": "2021-11-21T09:12:01.577Z"
   },
   {
    "duration": 630,
    "start_time": "2021-11-21T09:12:15.032Z"
   },
   {
    "duration": 926,
    "start_time": "2021-11-21T09:12:23.228Z"
   },
   {
    "duration": 648,
    "start_time": "2021-11-21T09:13:03.701Z"
   },
   {
    "duration": 636,
    "start_time": "2021-11-21T09:13:40.961Z"
   },
   {
    "duration": 61,
    "start_time": "2021-11-21T09:13:48.092Z"
   },
   {
    "duration": 640,
    "start_time": "2021-11-21T09:14:15.423Z"
   },
   {
    "duration": 667,
    "start_time": "2021-11-21T09:14:26.591Z"
   },
   {
    "duration": 62,
    "start_time": "2021-11-21T09:14:38.826Z"
   },
   {
    "duration": 620,
    "start_time": "2021-11-21T09:14:58.733Z"
   },
   {
    "duration": 61,
    "start_time": "2021-11-21T09:15:41.077Z"
   },
   {
    "duration": 59,
    "start_time": "2021-11-21T09:16:29.653Z"
   },
   {
    "duration": 626,
    "start_time": "2021-11-21T09:17:00.368Z"
   },
   {
    "duration": 6,
    "start_time": "2021-11-21T09:28:31.741Z"
   },
   {
    "duration": 10,
    "start_time": "2021-11-21T09:28:31.750Z"
   },
   {
    "duration": 214,
    "start_time": "2021-11-21T09:28:31.763Z"
   },
   {
    "duration": 64,
    "start_time": "2021-11-21T09:28:31.980Z"
   },
   {
    "duration": 61,
    "start_time": "2021-11-21T09:28:32.047Z"
   },
   {
    "duration": 64,
    "start_time": "2021-11-21T09:28:32.113Z"
   },
   {
    "duration": 60,
    "start_time": "2021-11-21T09:28:32.181Z"
   },
   {
    "duration": 58,
    "start_time": "2021-11-21T09:28:32.245Z"
   },
   {
    "duration": 70,
    "start_time": "2021-11-21T09:28:32.306Z"
   },
   {
    "duration": 62,
    "start_time": "2021-11-21T09:28:32.379Z"
   },
   {
    "duration": 128,
    "start_time": "2021-11-21T09:28:32.444Z"
   },
   {
    "duration": 61,
    "start_time": "2021-11-21T09:28:32.574Z"
   },
   {
    "duration": 640,
    "start_time": "2021-11-21T09:28:32.638Z"
   },
   {
    "duration": 232,
    "start_time": "2021-11-21T09:28:33.050Z"
   },
   {
    "duration": 221,
    "start_time": "2021-11-21T09:28:33.063Z"
   },
   {
    "duration": 208,
    "start_time": "2021-11-21T09:28:33.078Z"
   },
   {
    "duration": 63,
    "start_time": "2021-11-21T09:29:42.356Z"
   },
   {
    "duration": 678,
    "start_time": "2021-11-21T09:30:21.968Z"
   },
   {
    "duration": 63,
    "start_time": "2021-11-21T09:30:42.920Z"
   },
   {
    "duration": 62,
    "start_time": "2021-11-21T09:31:15.588Z"
   },
   {
    "duration": 63,
    "start_time": "2021-11-21T09:32:14.332Z"
   },
   {
    "duration": 62,
    "start_time": "2021-11-21T09:32:44.516Z"
   },
   {
    "duration": 62,
    "start_time": "2021-11-21T09:33:17.165Z"
   },
   {
    "duration": 63,
    "start_time": "2021-11-21T09:33:25.798Z"
   },
   {
    "duration": 66,
    "start_time": "2021-11-21T09:35:05.225Z"
   },
   {
    "duration": 64,
    "start_time": "2021-11-21T09:39:17.522Z"
   },
   {
    "duration": 69,
    "start_time": "2021-11-21T09:41:10.417Z"
   },
   {
    "duration": 67,
    "start_time": "2021-11-21T09:42:00.508Z"
   },
   {
    "duration": 62,
    "start_time": "2021-11-21T09:42:14.853Z"
   },
   {
    "duration": 72,
    "start_time": "2021-11-21T09:42:20.070Z"
   },
   {
    "duration": 64,
    "start_time": "2021-11-21T09:42:31.107Z"
   },
   {
    "duration": 61,
    "start_time": "2021-11-21T09:42:34.930Z"
   },
   {
    "duration": 62,
    "start_time": "2021-11-21T09:42:37.772Z"
   },
   {
    "duration": 62,
    "start_time": "2021-11-21T09:42:47.621Z"
   },
   {
    "duration": 61,
    "start_time": "2021-11-21T09:42:51.149Z"
   },
   {
    "duration": 63,
    "start_time": "2021-11-21T09:42:55.632Z"
   },
   {
    "duration": 62,
    "start_time": "2021-11-21T09:43:08.074Z"
   },
   {
    "duration": 61,
    "start_time": "2021-11-21T09:43:12.365Z"
   },
   {
    "duration": 62,
    "start_time": "2021-11-21T09:43:22.224Z"
   },
   {
    "duration": 63,
    "start_time": "2021-11-21T09:43:25.671Z"
   },
   {
    "duration": 61,
    "start_time": "2021-11-21T09:43:37.821Z"
   },
   {
    "duration": 61,
    "start_time": "2021-11-21T09:43:41.170Z"
   },
   {
    "duration": 60,
    "start_time": "2021-11-21T09:43:49.394Z"
   },
   {
    "duration": 61,
    "start_time": "2021-11-21T09:43:53.065Z"
   },
   {
    "duration": 62,
    "start_time": "2021-11-21T09:44:01.895Z"
   },
   {
    "duration": 62,
    "start_time": "2021-11-21T09:44:05.274Z"
   },
   {
    "duration": 62,
    "start_time": "2021-11-21T09:44:19.848Z"
   },
   {
    "duration": 67,
    "start_time": "2021-11-21T09:44:36.347Z"
   },
   {
    "duration": 61,
    "start_time": "2021-11-21T09:45:29.884Z"
   },
   {
    "duration": 58,
    "start_time": "2021-11-21T09:45:39.064Z"
   },
   {
    "duration": 61,
    "start_time": "2021-11-21T09:46:24.368Z"
   },
   {
    "duration": 63,
    "start_time": "2021-11-21T09:46:59.240Z"
   },
   {
    "duration": 62,
    "start_time": "2021-11-21T09:47:29.012Z"
   },
   {
    "duration": 68,
    "start_time": "2021-11-21T09:51:10.953Z"
   },
   {
    "duration": 641,
    "start_time": "2021-11-21T09:52:05.160Z"
   },
   {
    "duration": 68,
    "start_time": "2021-11-21T09:52:10.109Z"
   },
   {
    "duration": 82,
    "start_time": "2021-11-21T09:59:02.638Z"
   },
   {
    "duration": 64,
    "start_time": "2021-11-21T09:59:48.319Z"
   },
   {
    "duration": 61,
    "start_time": "2021-11-21T10:00:00.025Z"
   },
   {
    "duration": 1178,
    "start_time": "2021-11-21T10:00:44.016Z"
   },
   {
    "duration": 685,
    "start_time": "2021-11-21T10:01:01.087Z"
   },
   {
    "duration": 788,
    "start_time": "2021-11-21T10:01:42.722Z"
   },
   {
    "duration": 63,
    "start_time": "2021-11-21T10:01:46.590Z"
   },
   {
    "duration": 57,
    "start_time": "2021-11-21T10:03:28.453Z"
   },
   {
    "duration": 61,
    "start_time": "2021-11-21T10:03:47.635Z"
   },
   {
    "duration": 60,
    "start_time": "2021-11-21T10:04:45.731Z"
   },
   {
    "duration": 61,
    "start_time": "2021-11-21T10:05:21.835Z"
   },
   {
    "duration": 67,
    "start_time": "2021-11-21T10:06:20.384Z"
   },
   {
    "duration": 64,
    "start_time": "2021-11-21T10:06:36.698Z"
   },
   {
    "duration": 61,
    "start_time": "2021-11-21T10:06:41.154Z"
   },
   {
    "duration": 61,
    "start_time": "2021-11-21T10:12:54.272Z"
   },
   {
    "duration": 66,
    "start_time": "2021-11-21T10:15:12.090Z"
   },
   {
    "duration": 62,
    "start_time": "2021-11-21T10:15:58.824Z"
   },
   {
    "duration": 61,
    "start_time": "2021-11-21T10:16:16.022Z"
   },
   {
    "duration": 62,
    "start_time": "2021-11-21T10:16:31.311Z"
   },
   {
    "duration": 62,
    "start_time": "2021-11-21T10:16:39.448Z"
   },
   {
    "duration": 679,
    "start_time": "2021-11-21T10:16:54.319Z"
   },
   {
    "duration": 639,
    "start_time": "2021-11-21T10:17:16.131Z"
   },
   {
    "duration": 848,
    "start_time": "2021-11-21T10:17:28.377Z"
   },
   {
    "duration": 728,
    "start_time": "2021-11-21T10:17:53.041Z"
   },
   {
    "duration": 611,
    "start_time": "2021-11-21T10:18:09.155Z"
   },
   {
    "duration": 62,
    "start_time": "2021-11-21T10:18:14.533Z"
   },
   {
    "duration": 61,
    "start_time": "2021-11-21T10:18:40.988Z"
   },
   {
    "duration": 61,
    "start_time": "2021-11-21T10:19:15.398Z"
   },
   {
    "duration": 63,
    "start_time": "2021-11-21T10:20:28.211Z"
   },
   {
    "duration": 708,
    "start_time": "2021-11-21T10:22:29.217Z"
   },
   {
    "duration": 60,
    "start_time": "2021-11-21T10:22:44.305Z"
   },
   {
    "duration": 101,
    "start_time": "2021-11-21T10:22:55.653Z"
   },
   {
    "duration": 894,
    "start_time": "2021-11-21T10:30:17.230Z"
   },
   {
    "duration": 67,
    "start_time": "2021-11-21T10:30:37.230Z"
   },
   {
    "duration": 1134,
    "start_time": "2021-11-21T13:26:46.115Z"
   },
   {
    "duration": 3,
    "start_time": "2021-11-21T13:26:47.251Z"
   },
   {
    "duration": 381,
    "start_time": "2021-11-21T13:26:47.256Z"
   },
   {
    "duration": 78,
    "start_time": "2021-11-21T13:26:47.639Z"
   },
   {
    "duration": 314,
    "start_time": "2021-11-21T13:26:47.719Z"
   },
   {
    "duration": 80,
    "start_time": "2021-11-21T13:26:48.036Z"
   },
   {
    "duration": 77,
    "start_time": "2021-11-21T13:26:48.119Z"
   },
   {
    "duration": 130,
    "start_time": "2021-11-21T13:26:48.199Z"
   },
   {
    "duration": 89,
    "start_time": "2021-11-21T13:26:48.332Z"
   },
   {
    "duration": 87,
    "start_time": "2021-11-21T13:26:48.423Z"
   },
   {
    "duration": 80,
    "start_time": "2021-11-21T13:26:48.512Z"
   },
   {
    "duration": 158,
    "start_time": "2021-11-21T13:26:48.594Z"
   },
   {
    "duration": 77,
    "start_time": "2021-11-21T13:26:48.754Z"
   },
   {
    "duration": 79,
    "start_time": "2021-11-21T13:26:48.832Z"
   },
   {
    "duration": 84,
    "start_time": "2021-11-21T13:26:48.913Z"
   },
   {
    "duration": 82,
    "start_time": "2021-11-21T13:26:48.999Z"
   },
   {
    "duration": 78,
    "start_time": "2021-11-21T13:26:49.082Z"
   },
   {
    "duration": 125,
    "start_time": "2021-11-21T13:26:49.163Z"
   },
   {
    "duration": 148,
    "start_time": "2021-11-21T13:26:49.291Z"
   },
   {
    "duration": 163,
    "start_time": "2021-11-21T13:33:15.983Z"
   },
   {
    "duration": 161,
    "start_time": "2021-11-21T13:33:18.886Z"
   },
   {
    "duration": 642,
    "start_time": "2021-11-21T13:35:05.880Z"
   },
   {
    "duration": 577,
    "start_time": "2021-11-21T13:35:12.098Z"
   },
   {
    "duration": 580,
    "start_time": "2021-11-21T13:35:18.720Z"
   },
   {
    "duration": 601,
    "start_time": "2021-11-21T13:35:29.591Z"
   },
   {
    "duration": 589,
    "start_time": "2021-11-21T13:35:34.127Z"
   },
   {
    "duration": 565,
    "start_time": "2021-11-21T13:35:36.767Z"
   },
   {
    "duration": 563,
    "start_time": "2021-11-21T13:35:41.135Z"
   },
   {
    "duration": 80,
    "start_time": "2021-11-21T13:36:53.282Z"
   },
   {
    "duration": 111,
    "start_time": "2021-11-21T13:39:26.647Z"
   },
   {
    "duration": 587,
    "start_time": "2021-11-21T13:40:34.541Z"
   },
   {
    "duration": 110,
    "start_time": "2021-11-21T13:40:50.676Z"
   },
   {
    "duration": 116,
    "start_time": "2021-11-21T13:46:52.820Z"
   },
   {
    "duration": 898,
    "start_time": "2021-11-21T14:11:19.552Z"
   },
   {
    "duration": 4,
    "start_time": "2021-11-21T14:11:20.453Z"
   },
   {
    "duration": 241,
    "start_time": "2021-11-21T14:11:20.459Z"
   },
   {
    "duration": 65,
    "start_time": "2021-11-21T14:11:20.703Z"
   },
   {
    "duration": 66,
    "start_time": "2021-11-21T14:11:20.771Z"
   },
   {
    "duration": 64,
    "start_time": "2021-11-21T14:11:20.839Z"
   },
   {
    "duration": 64,
    "start_time": "2021-11-21T14:11:20.906Z"
   },
   {
    "duration": 63,
    "start_time": "2021-11-21T14:11:20.974Z"
   },
   {
    "duration": 74,
    "start_time": "2021-11-21T14:11:21.040Z"
   },
   {
    "duration": 72,
    "start_time": "2021-11-21T14:11:21.116Z"
   },
   {
    "duration": 67,
    "start_time": "2021-11-21T14:11:21.190Z"
   },
   {
    "duration": 129,
    "start_time": "2021-11-21T14:11:21.260Z"
   },
   {
    "duration": 65,
    "start_time": "2021-11-21T14:11:21.391Z"
   },
   {
    "duration": 67,
    "start_time": "2021-11-21T14:11:21.459Z"
   },
   {
    "duration": 67,
    "start_time": "2021-11-21T14:11:21.529Z"
   },
   {
    "duration": 68,
    "start_time": "2021-11-21T14:11:21.599Z"
   },
   {
    "duration": 67,
    "start_time": "2021-11-21T14:11:21.669Z"
   },
   {
    "duration": 68,
    "start_time": "2021-11-21T14:11:21.738Z"
   },
   {
    "duration": 65,
    "start_time": "2021-11-21T14:11:21.808Z"
   },
   {
    "duration": 66,
    "start_time": "2021-11-21T14:11:21.875Z"
   },
   {
    "duration": 98,
    "start_time": "2021-11-21T14:11:21.945Z"
   },
   {
    "duration": 68,
    "start_time": "2021-11-21T14:27:49.644Z"
   },
   {
    "duration": 744,
    "start_time": "2021-11-21T14:29:23.780Z"
   },
   {
    "duration": 67,
    "start_time": "2021-11-21T14:30:16.541Z"
   },
   {
    "duration": 587,
    "start_time": "2021-11-21T14:30:32.132Z"
   },
   {
    "duration": 747,
    "start_time": "2021-11-21T14:31:01.358Z"
   },
   {
    "duration": 70,
    "start_time": "2021-11-21T14:31:14.745Z"
   },
   {
    "duration": 69,
    "start_time": "2021-11-21T14:31:59.876Z"
   },
   {
    "duration": 71,
    "start_time": "2021-11-21T14:32:28.144Z"
   },
   {
    "duration": 70,
    "start_time": "2021-11-21T14:33:18.179Z"
   },
   {
    "duration": 71,
    "start_time": "2021-11-21T14:33:24.186Z"
   },
   {
    "duration": 71,
    "start_time": "2021-11-21T14:33:59.455Z"
   },
   {
    "duration": 73,
    "start_time": "2021-11-21T14:34:48.433Z"
   },
   {
    "duration": 71,
    "start_time": "2021-11-21T14:35:12.714Z"
   },
   {
    "duration": 589,
    "start_time": "2021-11-21T14:41:20.423Z"
   },
   {
    "duration": 69,
    "start_time": "2021-11-21T14:41:45.754Z"
   },
   {
    "duration": 72,
    "start_time": "2021-11-21T14:42:10.948Z"
   },
   {
    "duration": 68,
    "start_time": "2021-11-21T14:42:37.810Z"
   },
   {
    "duration": 69,
    "start_time": "2021-11-21T14:43:10.833Z"
   },
   {
    "duration": 69,
    "start_time": "2021-11-21T14:43:24.207Z"
   },
   {
    "duration": 69,
    "start_time": "2021-11-21T14:46:28.979Z"
   },
   {
    "duration": 70,
    "start_time": "2021-11-21T14:46:33.862Z"
   },
   {
    "duration": 69,
    "start_time": "2021-11-21T14:48:29.036Z"
   },
   {
    "duration": 1365,
    "start_time": "2021-11-21T14:48:53.954Z"
   },
   {
    "duration": 68,
    "start_time": "2021-11-21T14:49:27.188Z"
   },
   {
    "duration": 584,
    "start_time": "2021-11-21T14:57:07.273Z"
   },
   {
    "duration": 70,
    "start_time": "2021-11-21T14:57:14.357Z"
   },
   {
    "duration": 606,
    "start_time": "2021-11-21T14:57:42.449Z"
   },
   {
    "duration": 584,
    "start_time": "2021-11-21T14:57:58.342Z"
   },
   {
    "duration": 608,
    "start_time": "2021-11-21T14:58:20.332Z"
   },
   {
    "duration": 70,
    "start_time": "2021-11-21T14:58:47.612Z"
   },
   {
    "duration": 657,
    "start_time": "2021-11-21T14:59:30.099Z"
   },
   {
    "duration": 616,
    "start_time": "2021-11-21T15:00:11.165Z"
   },
   {
    "duration": 662,
    "start_time": "2021-11-21T15:00:31.260Z"
   },
   {
    "duration": 628,
    "start_time": "2021-11-21T15:01:17.583Z"
   },
   {
    "duration": 629,
    "start_time": "2021-11-21T15:01:26.322Z"
   },
   {
    "duration": 633,
    "start_time": "2021-11-21T15:01:31.742Z"
   },
   {
    "duration": 587,
    "start_time": "2021-11-21T15:02:13.222Z"
   },
   {
    "duration": 69,
    "start_time": "2021-11-21T15:02:49.610Z"
   },
   {
    "duration": 601,
    "start_time": "2021-11-21T15:03:04.407Z"
   },
   {
    "duration": 603,
    "start_time": "2021-11-21T15:03:21.398Z"
   },
   {
    "duration": 71,
    "start_time": "2021-11-21T15:05:16.518Z"
   },
   {
    "duration": 72,
    "start_time": "2021-11-21T15:06:37.023Z"
   },
   {
    "duration": 71,
    "start_time": "2021-11-21T15:07:13.315Z"
   },
   {
    "duration": 71,
    "start_time": "2021-11-21T15:07:41.413Z"
   },
   {
    "duration": 4,
    "start_time": "2021-11-21T15:16:25.635Z"
   },
   {
    "duration": 5,
    "start_time": "2021-11-21T15:16:25.642Z"
   },
   {
    "duration": 269,
    "start_time": "2021-11-21T15:16:25.649Z"
   },
   {
    "duration": 74,
    "start_time": "2021-11-21T15:16:25.919Z"
   },
   {
    "duration": 74,
    "start_time": "2021-11-21T15:16:25.994Z"
   },
   {
    "duration": 74,
    "start_time": "2021-11-21T15:16:26.069Z"
   },
   {
    "duration": 74,
    "start_time": "2021-11-21T15:16:26.145Z"
   },
   {
    "duration": 72,
    "start_time": "2021-11-21T15:16:26.221Z"
   },
   {
    "duration": 82,
    "start_time": "2021-11-21T15:16:26.295Z"
   },
   {
    "duration": 80,
    "start_time": "2021-11-21T15:16:26.379Z"
   },
   {
    "duration": 74,
    "start_time": "2021-11-21T15:16:26.461Z"
   },
   {
    "duration": 148,
    "start_time": "2021-11-21T15:16:26.537Z"
   },
   {
    "duration": 74,
    "start_time": "2021-11-21T15:16:26.687Z"
   },
   {
    "duration": 77,
    "start_time": "2021-11-21T15:16:26.763Z"
   },
   {
    "duration": 76,
    "start_time": "2021-11-21T15:16:26.842Z"
   },
   {
    "duration": 79,
    "start_time": "2021-11-21T15:16:26.919Z"
   },
   {
    "duration": 74,
    "start_time": "2021-11-21T15:16:27.000Z"
   },
   {
    "duration": 74,
    "start_time": "2021-11-21T15:16:27.076Z"
   },
   {
    "duration": 74,
    "start_time": "2021-11-21T15:16:27.152Z"
   },
   {
    "duration": 75,
    "start_time": "2021-11-21T15:16:27.228Z"
   },
   {
    "duration": 105,
    "start_time": "2021-11-21T15:16:27.305Z"
   },
   {
    "duration": 730,
    "start_time": "2022-01-25T12:56:18.565Z"
   },
   {
    "duration": 3,
    "start_time": "2022-01-25T12:56:19.297Z"
   },
   {
    "duration": 105,
    "start_time": "2022-01-25T12:56:19.301Z"
   },
   {
    "duration": 12,
    "start_time": "2022-01-25T12:56:19.407Z"
   },
   {
    "duration": 12,
    "start_time": "2022-01-25T12:56:19.420Z"
   },
   {
    "duration": 9,
    "start_time": "2022-01-25T12:56:19.434Z"
   },
   {
    "duration": 12,
    "start_time": "2022-01-25T12:56:19.445Z"
   },
   {
    "duration": 9,
    "start_time": "2022-01-25T12:56:19.460Z"
   },
   {
    "duration": 21,
    "start_time": "2022-01-25T12:56:19.470Z"
   },
   {
    "duration": 18,
    "start_time": "2022-01-25T12:56:19.492Z"
   },
   {
    "duration": 10,
    "start_time": "2022-01-25T12:56:19.511Z"
   },
   {
    "duration": 22,
    "start_time": "2022-01-25T12:56:19.523Z"
   },
   {
    "duration": 10,
    "start_time": "2022-01-25T12:56:19.547Z"
   },
   {
    "duration": 13,
    "start_time": "2022-01-25T12:56:19.558Z"
   },
   {
    "duration": 13,
    "start_time": "2022-01-25T12:56:19.573Z"
   },
   {
    "duration": 16,
    "start_time": "2022-01-25T12:56:19.588Z"
   },
   {
    "duration": 10,
    "start_time": "2022-01-25T12:56:19.605Z"
   },
   {
    "duration": 10,
    "start_time": "2022-01-25T12:56:19.616Z"
   },
   {
    "duration": 9,
    "start_time": "2022-01-25T12:56:19.628Z"
   },
   {
    "duration": 10,
    "start_time": "2022-01-25T12:56:19.639Z"
   },
   {
    "duration": 45,
    "start_time": "2022-01-25T12:56:19.651Z"
   },
   {
    "duration": 4,
    "start_time": "2022-01-25T13:02:43.777Z"
   },
   {
    "duration": 5,
    "start_time": "2022-01-25T13:02:43.787Z"
   },
   {
    "duration": 30,
    "start_time": "2022-01-25T13:02:43.795Z"
   },
   {
    "duration": 11,
    "start_time": "2022-01-25T13:02:43.826Z"
   },
   {
    "duration": 10,
    "start_time": "2022-01-25T13:02:43.838Z"
   },
   {
    "duration": 11,
    "start_time": "2022-01-25T13:02:43.849Z"
   },
   {
    "duration": 17,
    "start_time": "2022-01-25T13:02:43.862Z"
   },
   {
    "duration": 9,
    "start_time": "2022-01-25T13:02:43.881Z"
   },
   {
    "duration": 18,
    "start_time": "2022-01-25T13:02:43.892Z"
   },
   {
    "duration": 17,
    "start_time": "2022-01-25T13:02:43.912Z"
   },
   {
    "duration": 10,
    "start_time": "2022-01-25T13:02:43.931Z"
   },
   {
    "duration": 9,
    "start_time": "2022-01-25T13:02:43.942Z"
   },
   {
    "duration": 13,
    "start_time": "2022-01-25T13:02:43.953Z"
   },
   {
    "duration": 14,
    "start_time": "2022-01-25T13:02:43.968Z"
   },
   {
    "duration": 14,
    "start_time": "2022-01-25T13:02:43.984Z"
   },
   {
    "duration": 11,
    "start_time": "2022-01-25T13:02:44.000Z"
   },
   {
    "duration": 17,
    "start_time": "2022-01-25T13:02:44.013Z"
   },
   {
    "duration": 11,
    "start_time": "2022-01-25T13:02:44.032Z"
   },
   {
    "duration": 468,
    "start_time": "2022-02-04T20:12:10.874Z"
   },
   {
    "duration": 931,
    "start_time": "2022-02-04T20:12:15.231Z"
   },
   {
    "duration": 5,
    "start_time": "2022-02-04T20:12:16.165Z"
   },
   {
    "duration": 242,
    "start_time": "2022-02-04T20:12:16.173Z"
   },
   {
    "duration": 76,
    "start_time": "2022-02-04T20:12:16.418Z"
   },
   {
    "duration": 68,
    "start_time": "2022-02-04T20:12:16.497Z"
   },
   {
    "duration": 67,
    "start_time": "2022-02-04T20:12:16.568Z"
   },
   {
    "duration": 66,
    "start_time": "2022-02-04T20:12:16.638Z"
   },
   {
    "duration": 65,
    "start_time": "2022-02-04T20:12:16.708Z"
   },
   {
    "duration": 75,
    "start_time": "2022-02-04T20:12:16.775Z"
   },
   {
    "duration": 74,
    "start_time": "2022-02-04T20:12:16.853Z"
   },
   {
    "duration": 69,
    "start_time": "2022-02-04T20:12:16.930Z"
   },
   {
    "duration": 66,
    "start_time": "2022-02-04T20:12:17.001Z"
   },
   {
    "duration": 73,
    "start_time": "2022-02-04T20:12:17.070Z"
   },
   {
    "duration": 72,
    "start_time": "2022-02-04T20:12:17.146Z"
   },
   {
    "duration": 74,
    "start_time": "2022-02-04T20:12:17.221Z"
   },
   {
    "duration": 68,
    "start_time": "2022-02-04T20:12:17.298Z"
   },
   {
    "duration": 69,
    "start_time": "2022-02-04T20:12:17.369Z"
   },
   {
    "duration": 67,
    "start_time": "2022-02-04T20:12:17.441Z"
   },
   {
    "duration": 74,
    "start_time": "2022-02-04T20:12:46.358Z"
   },
   {
    "duration": 75,
    "start_time": "2022-02-04T20:16:21.230Z"
   },
   {
    "duration": 66,
    "start_time": "2022-02-04T20:16:40.641Z"
   },
   {
    "duration": 67,
    "start_time": "2022-02-04T20:16:54.304Z"
   },
   {
    "duration": 66,
    "start_time": "2022-02-04T20:17:04.563Z"
   },
   {
    "duration": 64,
    "start_time": "2022-02-04T20:17:08.715Z"
   },
   {
    "duration": 656,
    "start_time": "2022-02-06T18:41:16.064Z"
   },
   {
    "duration": 5,
    "start_time": "2022-02-06T18:41:16.722Z"
   },
   {
    "duration": 39,
    "start_time": "2022-02-06T18:41:16.730Z"
   },
   {
    "duration": 9,
    "start_time": "2022-02-06T18:41:16.771Z"
   },
   {
    "duration": 9,
    "start_time": "2022-02-06T18:41:16.782Z"
   },
   {
    "duration": 8,
    "start_time": "2022-02-06T18:41:16.792Z"
   },
   {
    "duration": 8,
    "start_time": "2022-02-06T18:41:16.802Z"
   },
   {
    "duration": 16,
    "start_time": "2022-02-06T18:41:16.812Z"
   },
   {
    "duration": 17,
    "start_time": "2022-02-06T18:41:16.829Z"
   },
   {
    "duration": 16,
    "start_time": "2022-02-06T18:41:16.847Z"
   },
   {
    "duration": 9,
    "start_time": "2022-02-06T18:41:16.864Z"
   },
   {
    "duration": 11,
    "start_time": "2022-02-06T18:41:16.875Z"
   },
   {
    "duration": 1084,
    "start_time": "2022-02-06T18:41:16.887Z"
   },
   {
    "duration": 15,
    "start_time": "2022-02-06T18:41:17.973Z"
   },
   {
    "duration": 1594,
    "start_time": "2022-02-06T18:41:17.990Z"
   },
   {
    "duration": 10,
    "start_time": "2022-02-06T18:41:19.586Z"
   },
   {
    "duration": 10,
    "start_time": "2022-02-06T18:41:19.597Z"
   },
   {
    "duration": 11,
    "start_time": "2022-02-06T18:41:19.608Z"
   },
   {
    "duration": 18,
    "start_time": "2022-02-06T18:45:13.848Z"
   },
   {
    "duration": 11,
    "start_time": "2022-02-06T18:45:22.786Z"
   },
   {
    "duration": 11,
    "start_time": "2022-02-06T18:46:25.903Z"
   },
   {
    "duration": 11,
    "start_time": "2022-02-06T18:48:08.302Z"
   }
  ],
  "kernelspec": {
   "display_name": "Python 3",
   "language": "python",
   "name": "python3"
  },
  "language_info": {
   "codemirror_mode": {
    "name": "ipython",
    "version": 3
   },
   "file_extension": ".py",
   "mimetype": "text/x-python",
   "name": "python",
   "nbconvert_exporter": "python",
   "pygments_lexer": "ipython3",
   "version": "3.7.8"
  },
  "toc": {
   "base_numbering": 1,
   "nav_menu": {},
   "number_sections": true,
   "sideBar": true,
   "skip_h1_title": true,
   "title_cell": "Table of Contents",
   "title_sidebar": "Contents",
   "toc_cell": false,
   "toc_position": {},
   "toc_section_display": true,
   "toc_window_display": false
  }
 },
 "nbformat": 4,
 "nbformat_minor": 2
}
